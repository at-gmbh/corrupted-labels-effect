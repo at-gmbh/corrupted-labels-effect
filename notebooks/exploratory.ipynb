{
 "cells": [
  {
   "cell_type": "code",
   "execution_count": null,
   "metadata": {},
   "outputs": [],
   "source": [
    "# imports\n",
    "import matplotlib.pyplot as plt\n",
    "import numpy as np\n",
    "import os\n",
    "from pathlib import Path\n",
    "from random import randint\n",
    "import seaborn as sns\n",
    "import sys\n",
    "\n",
    "module_path = os.path.abspath(os.path.join('..'))\n",
    "if module_path not in sys.path:\n",
    "    sys.path.append(module_path)\n",
    "\n",
    "import src.false_labels_effect.util as util\n",
    "# import src.false_labels_effect.models as models"
   ]
  },
  {
   "cell_type": "code",
   "execution_count": null,
   "metadata": {},
   "outputs": [],
   "source": [
    "# set training and test img path\n",
    "train_img_path = Path(\"../data/Images_4c_Poly/Train\")\n",
    "test_img_path = Path(\"../data/Images_4c_Poly/Test\")\n",
    "\n",
    "# set label path\n",
    "train_label_path = Path(\"../data/Labels_4c_Poly/Train.npy\")\n",
    "test_label_path = Path(\"../data/Labels_4c_Poly/Test.npy\")\n",
    "\n",
    "# load labels dict\n",
    "train_labels_dict = util.load_labels(train_label_path)\n",
    "test_labels_dict = util.load_labels(test_label_path)"
   ]
  },
  {
   "cell_type": "code",
   "execution_count": null,
   "metadata": {},
   "outputs": [],
   "source": [
    "# show random example train label\n",
    "train_exm = \"Train_\" + str(randint(1, len(train_labels_dict.keys()))).zfill(5)\n",
    "print(f\"Example labels_dict['{train_exm}'] = {train_labels_dict[train_exm]}\")\n",
    "\n",
    "# show random example test label\n",
    "test_exm = \"Test_\" + str(randint(1, len(test_labels_dict.keys()))).zfill(5)\n",
    "print(f\"Example labels_dict['{test_exm}'] = {test_labels_dict[test_exm]}\")"
   ]
  },
  {
   "cell_type": "code",
   "execution_count": null,
   "metadata": {},
   "outputs": [],
   "source": [
    "# get all main classes\n",
    "main_classes_list = []\n",
    "for label_set in [train_labels_dict.values(), test_labels_dict.values()]:\n",
    "    for label in label_set:\n",
    "        main_classes_list.append(label['Class'])\n",
    "\n",
    "# view main classes\n",
    "main_classes_set = sorted(set(main_classes_list))\n",
    "main_classes_set"
   ]
  },
  {
   "cell_type": "code",
   "execution_count": null,
   "metadata": {},
   "outputs": [],
   "source": [
    "# get all sub classes\n",
    "sub_classes_list = []\n",
    "for label_set in [train_labels_dict.values(), test_labels_dict.values()]:\n",
    "    for label in label_set:\n",
    "        sub_classes_list.append(label['Class'] + ' - ' + str(label['Subclass']))\n",
    "\n",
    "# view subclasses\n",
    "sub_classes_set = sorted(set(sub_classes_list))\n",
    "sub_classes_set"
   ]
  },
  {
   "cell_type": "code",
   "execution_count": null,
   "metadata": {},
   "outputs": [],
   "source": [
    "# view count of main classes\n",
    "for label in main_classes_set:\n",
    "    print(f'{main_classes_list.count(label)} - {label}')\n",
    "    \n",
    "print('\\n---\\n')\n",
    "\n",
    "# view count of sub classes\n",
    "for label in sub_classes_set:\n",
    "    print(f'{sub_classes_list.count(label)} - {label}')\n"
   ]
  },
  {
   "cell_type": "code",
   "execution_count": null,
   "metadata": {},
   "outputs": [],
   "source": [
    "# define color palette for visualization\n",
    "colorblind_palette = sns.color_palette('colorblind', 10)\n",
    "colorblind_palette"
   ]
  },
  {
   "cell_type": "code",
   "execution_count": null,
   "metadata": {},
   "outputs": [],
   "source": [
    "# visualize class distribution\n",
    "\n",
    "# update label strings for readability\n",
    "def update_label(label: str) -> str:\n",
    "    label = label.replace('_', ' ').replace(',', ' ').replace(\"'\", '')\n",
    "    label = label.replace('Green', 'G')\n",
    "    label = label.replace('Blue', 'B')\n",
    "    label = label.replace('Red', 'R')\n",
    "    \n",
    "    return label\n",
    "\n",
    "f, axes = plt.subplots(nrows = 1, ncols = 2, figsize = (10, 5))\n",
    "\n",
    "sns.histplot(sorted(main_classes_list), ax = axes[0])\n",
    "sns.histplot(sorted(sub_classes_list), ax = axes[1])\n",
    "\n",
    "plt.subplots_adjust(wspace=0.25, bottom=0.4)\n",
    "plt.draw()\n",
    "\n",
    "sns.set(font_scale = 1.2)\n",
    "sns.despine(left=True, bottom=True)\n",
    "sns.set_style(\"whitegrid\")\n",
    "\n",
    "for ind, ax in enumerate(axes):\n",
    "    \n",
    "    texts = [update_label(t.get_text())  for t in ax.get_xticklabels()]\n",
    "    ax.set_xticklabels(texts, rotation = 45, ha = 'right')\n",
    "    if ind == 0:\n",
    "        ax.set_ylabel('n')\n",
    "    else:\n",
    "        ax.set_ylabel('')\n",
    "    ax.grid(visible=False, axis='x')\n",
    "    \n",
    "axes[0].set_title('Main classes distribution')\n",
    "axes[1].set_title('Subclasses distribution')\n",
    "\n",
    "f.savefig('../assets/class_hist.png', dpi=300, facecolor='white')"
   ]
  }
 ],
 "metadata": {
  "kernelspec": {
   "display_name": "Python 3.8.12 ('false-labels')",
   "language": "python",
   "name": "python3"
  },
  "language_info": {
   "codemirror_mode": {
    "name": "ipython",
    "version": 3
   },
   "file_extension": ".py",
   "mimetype": "text/x-python",
   "name": "python",
   "nbconvert_exporter": "python",
   "pygments_lexer": "ipython3",
   "version": "3.8.12"
  },
  "orig_nbformat": 4,
  "vscode": {
   "interpreter": {
    "hash": "c041ee5eca0bebec98353fb08f3f656fe2677ac141976eeebd4959b2f854b27b"
   }
  }
 },
 "nbformat": 4,
 "nbformat_minor": 2
}
