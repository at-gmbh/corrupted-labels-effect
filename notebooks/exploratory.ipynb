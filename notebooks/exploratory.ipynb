{
 "cells": [
  {
   "cell_type": "code",
   "execution_count": 1,
   "metadata": {},
   "outputs": [],
   "source": [
    "import matplotlib.pyplot as plt\n",
    "import os\n",
    "from pathlib import Path\n",
    "from random import randint\n",
    "import sys\n",
    "\n",
    "module_path = os.path.abspath(os.path.join('..'))\n",
    "if module_path not in sys.path:\n",
    "    sys.path.append(module_path)\n",
    "\n",
    "import src.false_labels_effect.util as util"
   ]
  },
  {
   "cell_type": "code",
   "execution_count": 2,
   "metadata": {},
   "outputs": [],
   "source": [
    "# set training and test img path\n",
    "\n",
    "train_img_path = Path(\"../data/Images_4c_Poly/Train\")\n",
    "test_img_path = Path(\"../data/Images_4c_Poly/Test\")\n",
    "\n",
    "# set label path\n",
    "\n",
    "train_label_path = Path(\"../data/Labels_4c_Poly/Train.npy\")\n",
    "test_label_path = Path(\"../data/Labels_4c_Poly/Test.npy\")\n",
    "\n",
    "# load labels dict\n",
    "train_labels_dict = util.load_labels(train_label_path)\n",
    "test_labels_dict = util.load_labels(test_label_path)"
   ]
  },
  {
   "cell_type": "code",
   "execution_count": 3,
   "metadata": {},
   "outputs": [
    {
     "name": "stdout",
     "output_type": "stream",
     "text": [
      "Example labels_dict['Train_16421'] = {'Img_id': 'Train_16421', 'Class': 'Distortion', 'Subclass': 'Red', 'Annotations': [[74, 66], [157, 17], [319, 192], [110, 403], [74, 66]]}\n",
      "Example labels_dict['Test_02340'] = {'Img_id': 'Test_02340', 'Class': 'Blur', 'Subclass': None, 'Annotations': [[106, 56], [495, 76], [467, 140], [177, 145], [106, 56]]}\n"
     ]
    }
   ],
   "source": [
    "# show random example train label\n",
    "train_exm = \"Train_\" + str(randint(1, len(train_labels_dict.keys()))).zfill(5)\n",
    "print(f\"Example labels_dict['{train_exm}'] = {train_labels_dict[train_exm]}\")\n",
    "\n",
    "# show random example test label\n",
    "test_exm = \"Test_\" + str(randint(1, len(test_labels_dict.keys()))).zfill(5)\n",
    "print(f\"Example labels_dict['{test_exm}'] = {test_labels_dict[test_exm]}\")"
   ]
  },
  {
   "cell_type": "code",
   "execution_count": 4,
   "metadata": {},
   "outputs": [
    {
     "data": {
      "text/plain": [
       "['Blob', 'Blur', 'Channel_Change', 'Distortion']"
      ]
     },
     "execution_count": 4,
     "metadata": {},
     "output_type": "execute_result"
    }
   ],
   "source": [
    "# get all main classes\n",
    "main_classes_list = []\n",
    "for label_set in [train_labels_dict.values(), test_labels_dict.values()]:\n",
    "    for label in label_set:\n",
    "        main_classes_list.append(label['Class'])\n",
    "\n",
    "main_classes_set = sorted(set(main_classes_list))\n",
    "main_classes_set"
   ]
  },
  {
   "cell_type": "code",
   "execution_count": 5,
   "metadata": {},
   "outputs": [
    {
     "data": {
      "text/plain": [
       "['Blob - All',\n",
       " 'Blob - Blue',\n",
       " 'Blob - Green',\n",
       " 'Blob - Red',\n",
       " 'Blur - None',\n",
       " \"Channel_Change - ['Blue', 'Green', 'Red']\",\n",
       " \"Channel_Change - ['Blue', 'Red', 'Green']\",\n",
       " \"Channel_Change - ['Green', 'Blue', 'Red']\",\n",
       " \"Channel_Change - ['Green', 'Red', 'Blue']\",\n",
       " \"Channel_Change - ['Red', 'Blue', 'Green']\",\n",
       " 'Distortion - All',\n",
       " 'Distortion - Blue',\n",
       " 'Distortion - Green',\n",
       " 'Distortion - Red']"
      ]
     },
     "execution_count": 5,
     "metadata": {},
     "output_type": "execute_result"
    }
   ],
   "source": [
    "# get all sub classes\n",
    "sub_classes_list = []\n",
    "for label_set in [train_labels_dict.values(), test_labels_dict.values()]:\n",
    "    for label in label_set:\n",
    "        sub_classes_list.append(label['Class'] + ' - ' + str(label['Subclass']))\n",
    "        \n",
    "sub_classes_set = sorted(set(sub_classes_list))\n",
    "sub_classes_set"
   ]
  },
  {
   "cell_type": "code",
   "execution_count": 6,
   "metadata": {},
   "outputs": [
    {
     "name": "stderr",
     "output_type": "stream",
     "text": [
      "<ipython-input-6-8ec6bd450b90>:15: UserWarning: FixedFormatter should only be used together with FixedLocator\n",
      "  ax.set_xticklabels(\n"
     ]
    },
    {
     "data": {
      "text/plain": [
       "<Figure size 576x144 with 0 Axes>"
      ]
     },
     "metadata": {},
     "output_type": "display_data"
    },
    {
     "data": {
      "image/png": "[encoded data removed]",
      "text/plain": [
       "<Figure size 432x288 with 2 Axes>"
      ]
     },
     "metadata": {
      "needs_background": "light"
     },
     "output_type": "display_data"
    }
   ],
   "source": [
    "# show distribution of main and sub classes\n",
    "fig = plt.figure(figsize = (8,2))\n",
    "fig, axes = plt.subplots(nrows = 1, ncols = 2)\n",
    "\n",
    "axes[0].hist(sorted(main_classes_list))\n",
    "axes[0].set_title('Main Classes')\n",
    "\n",
    "axes[1].hist(sorted(sub_classes_list))\n",
    "axes[1].set_title('Sub Classes')\n",
    "axes[1].get_yaxis().set_ticks([])\n",
    "\n",
    "plt.draw()\n",
    "\n",
    "for ax in axes:\n",
    "    ax.set_xticklabels(\n",
    "        ax.get_xticklabels()\n",
    "        , rotation=60\n",
    "        , ha='right'\n",
    "        , rotation_mode='anchor'\n",
    "    )"
   ]
  }
 ],
 "metadata": {
  "interpreter": {
   "hash": "6bc522c3046067d7e3045d78d1ed3011f68430faadf07a226c31a92b0e67c17e"
  },
  "kernelspec": {
   "display_name": "Python 3.9.9 64-bit ('fle': conda)",
   "language": "python",
   "name": "python3"
  },
  "language_info": {
   "codemirror_mode": {
    "name": "ipython",
    "version": 3
   },
   "file_extension": ".py",
   "mimetype": "text/x-python",
   "name": "python",
   "nbconvert_exporter": "python",
   "pygments_lexer": "ipython3",
   "version": "3.8.12"
  },
  "orig_nbformat": 4
 },
 "nbformat": 4,
 "nbformat_minor": 2
}
