{
 "cells": [
  {
   "cell_type": "code",
   "execution_count": 48,
   "metadata": {},
   "outputs": [],
   "source": [
    "import matplotlib.pyplot as plt\n",
    "import numpy as np\n",
    "import os\n",
    "from pathlib import Path\n",
    "from random import randint\n",
    "import seaborn as sns\n",
    "import sys\n",
    "\n",
    "module_path = os.path.abspath(os.path.join('..'))\n",
    "if module_path not in sys.path:\n",
    "    sys.path.append(module_path)\n",
    "\n",
    "import src.false_labels_effect.util as util"
   ]
  },
  {
   "cell_type": "code",
   "execution_count": 2,
   "metadata": {},
   "outputs": [],
   "source": [
    "# set training and test img path\n",
    "\n",
    "train_img_path = Path(\"../data/Images_4c_Poly/Train\")\n",
    "test_img_path = Path(\"../data/Images_4c_Poly/Test\")\n",
    "\n",
    "# set label path\n",
    "\n",
    "train_label_path = Path(\"../data/Labels_4c_Poly/Train.npy\")\n",
    "test_label_path = Path(\"../data/Labels_4c_Poly/Test.npy\")\n",
    "\n",
    "# load labels dict\n",
    "train_labels_dict = util.load_labels(train_label_path)\n",
    "test_labels_dict = util.load_labels(test_label_path)"
   ]
  },
  {
   "cell_type": "code",
   "execution_count": 3,
   "metadata": {},
   "outputs": [
    {
     "name": "stdout",
     "output_type": "stream",
     "text": [
      "Example labels_dict['Train_02137'] = {'Img_id': 'Train_02137', 'Class': 'Blur', 'Subclass': None, 'Annotations': [[27, 236], [141, 99], [223, 251], [200, 357], [27, 236]]}\n",
      "Example labels_dict['Test_02614'] = {'Img_id': 'Test_02614', 'Class': 'Distortion', 'Subclass': 'All', 'Annotations': [[10, 279], [362, 28], [374, 72], [59, 362], [10, 279]]}\n"
     ]
    }
   ],
   "source": [
    "# show random example train label\n",
    "train_exm = \"Train_\" + str(randint(1, len(train_labels_dict.keys()))).zfill(5)\n",
    "print(f\"Example labels_dict['{train_exm}'] = {train_labels_dict[train_exm]}\")\n",
    "\n",
    "# show random example test label\n",
    "test_exm = \"Test_\" + str(randint(1, len(test_labels_dict.keys()))).zfill(5)\n",
    "print(f\"Example labels_dict['{test_exm}'] = {test_labels_dict[test_exm]}\")"
   ]
  },
  {
   "cell_type": "code",
   "execution_count": 4,
   "metadata": {},
   "outputs": [
    {
     "data": {
      "text/plain": [
       "['Blob', 'Blur', 'Channel_Change', 'Distortion']"
      ]
     },
     "execution_count": 4,
     "metadata": {},
     "output_type": "execute_result"
    }
   ],
   "source": [
    "# get all main classes\n",
    "main_classes_list = []\n",
    "for label_set in [train_labels_dict.values(), test_labels_dict.values()]:\n",
    "    for label in label_set:\n",
    "        main_classes_list.append(label['Class'])\n",
    "\n",
    "main_classes_set = sorted(set(main_classes_list))\n",
    "main_classes_set"
   ]
  },
  {
   "cell_type": "code",
   "execution_count": 5,
   "metadata": {},
   "outputs": [
    {
     "data": {
      "text/plain": [
       "['Blob - All',\n",
       " 'Blob - Blue',\n",
       " 'Blob - Green',\n",
       " 'Blob - Red',\n",
       " 'Blur - None',\n",
       " \"Channel_Change - ['Blue', 'Green', 'Red']\",\n",
       " \"Channel_Change - ['Blue', 'Red', 'Green']\",\n",
       " \"Channel_Change - ['Green', 'Blue', 'Red']\",\n",
       " \"Channel_Change - ['Green', 'Red', 'Blue']\",\n",
       " \"Channel_Change - ['Red', 'Blue', 'Green']\",\n",
       " 'Distortion - All',\n",
       " 'Distortion - Blue',\n",
       " 'Distortion - Green',\n",
       " 'Distortion - Red']"
      ]
     },
     "execution_count": 5,
     "metadata": {},
     "output_type": "execute_result"
    }
   ],
   "source": [
    "# get all sub classes\n",
    "sub_classes_list = []\n",
    "for label_set in [train_labels_dict.values(), test_labels_dict.values()]:\n",
    "    for label in label_set:\n",
    "        sub_classes_list.append(label['Class'] + ' - ' + str(label['Subclass']))\n",
    "        \n",
    "sub_classes_set = sorted(set(sub_classes_list))\n",
    "sub_classes_set"
   ]
  },
  {
   "cell_type": "code",
   "execution_count": 34,
   "metadata": {},
   "outputs": [
    {
     "name": "stdout",
     "output_type": "stream",
     "text": [
      "1310 - Blob - All\n",
      "1384 - Blob - Blue\n",
      "1400 - Blob - Green\n",
      "1359 - Blob - Red\n",
      "5538 - Blur - None\n",
      "1090 - Channel_Change - ['Blue', 'Green', 'Red']\n",
      "1111 - Channel_Change - ['Blue', 'Red', 'Green']\n",
      "1108 - Channel_Change - ['Green', 'Blue', 'Red']\n",
      "1096 - Channel_Change - ['Green', 'Red', 'Blue']\n",
      "1151 - Channel_Change - ['Red', 'Blue', 'Green']\n",
      "1413 - Distortion - All\n",
      "1389 - Distortion - Blue\n",
      "1375 - Distortion - Green\n",
      "1353 - Distortion - Red\n",
      "\n",
      "---\n",
      "\n",
      "5453 - Blob\n",
      "5538 - Blur\n",
      "5556 - Channel_Change\n",
      "5530 - Distortion\n"
     ]
    }
   ],
   "source": [
    "for label in sub_classes_set:\n",
    "    print(f'{sub_classes_list.count(label)} - {label}')\n",
    "    \n",
    "print('\\n---\\n')\n",
    "\n",
    "for label in main_classes_set:\n",
    "    print(f'{main_classes_list.count(label)} - {label}')"
   ]
  },
  {
   "cell_type": "code",
   "execution_count": 15,
   "metadata": {},
   "outputs": [
    {
     "data": {
      "text/html": [
       "<svg  width=\"550\" height=\"55\"><rect x=\"0\" y=\"0\" width=\"55\" height=\"55\" style=\"fill:#0173b2;stroke-width:2;stroke:rgb(255,255,255)\"/><rect x=\"55\" y=\"0\" width=\"55\" height=\"55\" style=\"fill:#de8f05;stroke-width:2;stroke:rgb(255,255,255)\"/><rect x=\"110\" y=\"0\" width=\"55\" height=\"55\" style=\"fill:#029e73;stroke-width:2;stroke:rgb(255,255,255)\"/><rect x=\"165\" y=\"0\" width=\"55\" height=\"55\" style=\"fill:#d55e00;stroke-width:2;stroke:rgb(255,255,255)\"/><rect x=\"220\" y=\"0\" width=\"55\" height=\"55\" style=\"fill:#cc78bc;stroke-width:2;stroke:rgb(255,255,255)\"/><rect x=\"275\" y=\"0\" width=\"55\" height=\"55\" style=\"fill:#ca9161;stroke-width:2;stroke:rgb(255,255,255)\"/><rect x=\"330\" y=\"0\" width=\"55\" height=\"55\" style=\"fill:#fbafe4;stroke-width:2;stroke:rgb(255,255,255)\"/><rect x=\"385\" y=\"0\" width=\"55\" height=\"55\" style=\"fill:#949494;stroke-width:2;stroke:rgb(255,255,255)\"/><rect x=\"440\" y=\"0\" width=\"55\" height=\"55\" style=\"fill:#ece133;stroke-width:2;stroke:rgb(255,255,255)\"/><rect x=\"495\" y=\"0\" width=\"55\" height=\"55\" style=\"fill:#56b4e9;stroke-width:2;stroke:rgb(255,255,255)\"/></svg>"
      ],
      "text/plain": [
       "[(0.00392156862745098, 0.45098039215686275, 0.6980392156862745),\n",
       " (0.8705882352941177, 0.5607843137254902, 0.0196078431372549),\n",
       " (0.00784313725490196, 0.6196078431372549, 0.45098039215686275),\n",
       " (0.8352941176470589, 0.3686274509803922, 0.0),\n",
       " (0.8, 0.47058823529411764, 0.7372549019607844),\n",
       " (0.792156862745098, 0.5686274509803921, 0.3803921568627451),\n",
       " (0.984313725490196, 0.6862745098039216, 0.8941176470588236),\n",
       " (0.5803921568627451, 0.5803921568627451, 0.5803921568627451),\n",
       " (0.9254901960784314, 0.8823529411764706, 0.2),\n",
       " (0.33725490196078434, 0.7058823529411765, 0.9137254901960784)]"
      ]
     },
     "execution_count": 15,
     "metadata": {},
     "output_type": "execute_result"
    }
   ],
   "source": [
    "colorblind_palette = sns.color_palette('colorblind', 10)\n",
    "colorblind_palette"
   ]
  },
  {
   "cell_type": "code",
   "execution_count": 150,
   "metadata": {},
   "outputs": [
    {
     "name": "stderr",
     "output_type": "stream",
     "text": [
      "C:\\Users\\daniel.czwalinna\\AppData\\Local\\Temp\\ipykernel_9444\\3812911751.py:19: UserWarning: FixedFormatter should only be used together with FixedLocator\n",
      "  ax.set_xticklabels(sorted(texts), rotation = 45, ha = 'right')\n"
     ]
    },
    {
     "data": {
      "image/png": "[encoded data removed]",
      "text/plain": [
       "<Figure size 720x360 with 2 Axes>"
      ]
     },
     "metadata": {
      "needs_background": "light"
     },
     "output_type": "display_data"
    }
   ],
   "source": [
    "def update_label(label: str) -> str:\n",
    "    label = label.replace('_', ' ').replace(',', ' ').replace(\"'\", '')\n",
    "    label = label.replace('Green', 'G')\n",
    "    label = label.replace('Blue', 'B')\n",
    "    label = label.replace('Red', 'R')\n",
    "    \n",
    "    return label\n",
    "\n",
    "f, axes = plt.subplots(nrows = 1, ncols = 2, figsize = (10, 5))\n",
    "\n",
    "sns.histplot(main_classes_list, ax = axes[0])\n",
    "sns.histplot(sub_classes_list, ax = axes[1])\n",
    "\n",
    "plt.draw()\n",
    "\n",
    "for ax in axes:\n",
    "    \n",
    "    texts = [update_label(t.get_text())  for t in ax.get_xticklabels()]\n",
    "    ax.set_xticklabels(sorted(texts), rotation = 45, ha = 'right')"
   ]
  }
 ],
 "metadata": {
  "kernelspec": {
   "display_name": "Python 3.8.12 ('false-labels')",
   "language": "python",
   "name": "python3"
  },
  "language_info": {
   "codemirror_mode": {
    "name": "ipython",
    "version": 3
   },
   "file_extension": ".py",
   "mimetype": "text/x-python",
   "name": "python",
   "nbconvert_exporter": "python",
   "pygments_lexer": "ipython3",
   "version": "3.8.12"
  },
  "orig_nbformat": 4,
  "vscode": {
   "interpreter": {
    "hash": "c041ee5eca0bebec98353fb08f3f656fe2677ac141976eeebd4959b2f854b27b"
   }
  }
 },
 "nbformat": 4,
 "nbformat_minor": 2
}
