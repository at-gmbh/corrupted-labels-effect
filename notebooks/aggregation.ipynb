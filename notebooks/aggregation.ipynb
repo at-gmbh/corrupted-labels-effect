{
 "cells": [
  {
   "cell_type": "code",
   "execution_count": 200,
   "metadata": {},
   "outputs": [],
   "source": [
    "# imports\n",
    "import os\n",
    "from packaging import version\n",
    "import shutil\n",
    "\n",
    "import pandas as pd\n",
    "import tensorboard as tb\n",
    "\n",
    "import matplotlib.pyplot as plt\n",
    "import seaborn as sns"
   ]
  },
  {
   "cell_type": "code",
   "execution_count": null,
   "metadata": {},
   "outputs": [],
   "source": [
    "# check tensorboard version\n",
    "major_ver, minor_ver, _ = version.parse(tb.__version__).release\n",
    "assert major_ver >= 2 and minor_ver >= 3, \\\n",
    "    'This notebook requires TensorBoard 2.3 or later.'\n",
    "print(\"TensorBoard version: \", tb.__version__)"
   ]
  },
  {
   "cell_type": "code",
   "execution_count": 294,
   "metadata": {},
   "outputs": [
    {
     "name": "stdout",
     "output_type": "stream",
     "text": [
      "tensorboard dev upload --logdir=./tensorboard_upload/ --name FLE_resnet_test\n"
     ]
    }
   ],
   "source": [
    "# copy relevant model metrics into seperate folder and upload to tensorboard dev\n",
    "data_filter = 'test' # 'train', 'test' or 'validation'\n",
    "model_filter = 'resnet'# 'basic' or 'resnet'\n",
    "log_path = '../logs/scalars'\n",
    "upload_path = '../tensorboard_upload/'\n",
    "os.mkdir(upload_path)\n",
    "\n",
    "for (dirpath, dirnames, filenames) in os.walk(log_path):\n",
    "    # filter dirs\n",
    "    if data_filter in dirpath and model_filter in dirpath:\n",
    "\n",
    "        from_directory = dirpath\n",
    "        to_directory = upload_path + dirpath[16:]\n",
    "\n",
    "        # copy dir trees\n",
    "        shutil.copytree(from_directory, to_directory)\n",
    "\n",
    "# TODO: run in project root\n",
    "print(f'tensorboard dev upload --logdir=./tensorboard_upload/ --name FLE_{model_filter}_{data_filter}')"
   ]
  },
  {
   "cell_type": "code",
   "execution_count": 317,
   "metadata": {},
   "outputs": [],
   "source": [
    "# remove copied dir trees\n",
    "shutil.rmtree(upload_path)"
   ]
  },
  {
   "cell_type": "code",
   "execution_count": 269,
   "metadata": {},
   "outputs": [
    {
     "name": "stdout",
     "output_type": "stream",
     "text": [
      "0: (1780000, 4)\n",
      "1: (1779925, 4)\n",
      "(3559925, 4)\n"
     ]
    },
    {
     "data": {
      "text/html": [
       "<div>\n",
       "<style scoped>\n",
       "    .dataframe tbody tr th:only-of-type {\n",
       "        vertical-align: middle;\n",
       "    }\n",
       "\n",
       "    .dataframe tbody tr th {\n",
       "        vertical-align: top;\n",
       "    }\n",
       "\n",
       "    .dataframe thead th {\n",
       "        text-align: right;\n",
       "    }\n",
       "</style>\n",
       "<table border=\"1\" class=\"dataframe\">\n",
       "  <thead>\n",
       "    <tr style=\"text-align: right;\">\n",
       "      <th></th>\n",
       "      <th>run</th>\n",
       "      <th>tag</th>\n",
       "      <th>step</th>\n",
       "      <th>value</th>\n",
       "    </tr>\n",
       "  </thead>\n",
       "  <tbody>\n",
       "    <tr>\n",
       "      <th>0</th>\n",
       "      <td>basic_00000r_14c\\20220413-1643\\test</td>\n",
       "      <td>batch_accuracy</td>\n",
       "      <td>1</td>\n",
       "      <td>0.000000</td>\n",
       "    </tr>\n",
       "    <tr>\n",
       "      <th>1</th>\n",
       "      <td>basic_00000r_14c\\20220413-1643\\test</td>\n",
       "      <td>batch_accuracy</td>\n",
       "      <td>2</td>\n",
       "      <td>0.093750</td>\n",
       "    </tr>\n",
       "    <tr>\n",
       "      <th>2</th>\n",
       "      <td>basic_00000r_14c\\20220413-1643\\test</td>\n",
       "      <td>batch_accuracy</td>\n",
       "      <td>3</td>\n",
       "      <td>0.156250</td>\n",
       "    </tr>\n",
       "    <tr>\n",
       "      <th>3</th>\n",
       "      <td>basic_00000r_14c\\20220413-1643\\test</td>\n",
       "      <td>batch_accuracy</td>\n",
       "      <td>4</td>\n",
       "      <td>0.164062</td>\n",
       "    </tr>\n",
       "    <tr>\n",
       "      <th>4</th>\n",
       "      <td>basic_00000r_14c\\20220413-1643\\test</td>\n",
       "      <td>batch_accuracy</td>\n",
       "      <td>5</td>\n",
       "      <td>0.175000</td>\n",
       "    </tr>\n",
       "  </tbody>\n",
       "</table>\n",
       "</div>"
      ],
      "text/plain": [
       "                                   run             tag  step     value\n",
       "0  basic_00000r_14c\\20220413-1643\\test  batch_accuracy     1  0.000000\n",
       "1  basic_00000r_14c\\20220413-1643\\test  batch_accuracy     2  0.093750\n",
       "2  basic_00000r_14c\\20220413-1643\\test  batch_accuracy     3  0.156250\n",
       "3  basic_00000r_14c\\20220413-1643\\test  batch_accuracy     4  0.164062\n",
       "4  basic_00000r_14c\\20220413-1643\\test  batch_accuracy     5  0.175000"
      ]
     },
     "execution_count": 269,
     "metadata": {},
     "output_type": "execute_result"
    }
   ],
   "source": [
    "# TODO: set tensorboard dev ID\n",
    "experiment_ids = ['6QQYimtjSoK55Q6f7v5Pyg', 'Qm4QcX0MTvSAOFvJrBf19Q']\n",
    "all_dfs = []\n",
    "\n",
    "# download experiment\n",
    "for ind, id in enumerate(experiment_ids):\n",
    "    experiment = tb.data.experimental.ExperimentFromDev(id)\n",
    "    df_temp = experiment.get_scalars()\n",
    "    \n",
    "    print(f'{ind}: {df_temp.shape}')\n",
    "    all_dfs.append(df_temp)\n",
    "\n",
    "df = all_dfs[0]\n",
    "\n",
    "if len(all_dfs) > 1:\n",
    "    for new_df in all_dfs[1:]:\n",
    "        df = pd.concat([df, new_df])\n",
    "\n",
    "print(df.shape)\n",
    "df.head()"
   ]
  },
  {
   "cell_type": "code",
   "execution_count": 270,
   "metadata": {},
   "outputs": [],
   "source": [
    "# extract features\n",
    "df['model'] = df['run'].str.extract('(^[a-z]{5,6})_')\n",
    "df['data'] = df['run'].str.extract('([a-z]{4,})$')\n",
    "df['ratio'] = df['run'].str.extract('(\\d{5})r').astype(float)\n",
    "df['ratio'] = df['ratio'] / 100\n",
    "df['classes'] = df['run'].str.extract('(\\d{1,2})c')"
   ]
  },
  {
   "cell_type": "code",
   "execution_count": 272,
   "metadata": {},
   "outputs": [
    {
     "name": "stdout",
     "output_type": "stream",
     "text": [
      "Index(['run', 'tag', 'step', 'value', 'model', 'data', 'ratio', 'classes'], dtype='object')\n",
      "(3559925, 8)\n",
      "200\n"
     ]
    },
    {
     "data": {
      "text/html": [
       "<div>\n",
       "<style scoped>\n",
       "    .dataframe tbody tr th:only-of-type {\n",
       "        vertical-align: middle;\n",
       "    }\n",
       "\n",
       "    .dataframe tbody tr th {\n",
       "        vertical-align: top;\n",
       "    }\n",
       "\n",
       "    .dataframe thead th {\n",
       "        text-align: right;\n",
       "    }\n",
       "</style>\n",
       "<table border=\"1\" class=\"dataframe\">\n",
       "  <thead>\n",
       "    <tr style=\"text-align: right;\">\n",
       "      <th></th>\n",
       "      <th>run</th>\n",
       "      <th>tag</th>\n",
       "      <th>step</th>\n",
       "      <th>value</th>\n",
       "      <th>model</th>\n",
       "      <th>data</th>\n",
       "      <th>ratio</th>\n",
       "      <th>classes</th>\n",
       "    </tr>\n",
       "  </thead>\n",
       "  <tbody>\n",
       "    <tr>\n",
       "      <th>0</th>\n",
       "      <td>basic_00000r_14c\\20220413-1643\\test</td>\n",
       "      <td>batch_accuracy</td>\n",
       "      <td>1</td>\n",
       "      <td>0.000000</td>\n",
       "      <td>basic</td>\n",
       "      <td>test</td>\n",
       "      <td>0.0</td>\n",
       "      <td>14</td>\n",
       "    </tr>\n",
       "    <tr>\n",
       "      <th>1</th>\n",
       "      <td>basic_00000r_14c\\20220413-1643\\test</td>\n",
       "      <td>batch_accuracy</td>\n",
       "      <td>2</td>\n",
       "      <td>0.093750</td>\n",
       "      <td>basic</td>\n",
       "      <td>test</td>\n",
       "      <td>0.0</td>\n",
       "      <td>14</td>\n",
       "    </tr>\n",
       "    <tr>\n",
       "      <th>2</th>\n",
       "      <td>basic_00000r_14c\\20220413-1643\\test</td>\n",
       "      <td>batch_accuracy</td>\n",
       "      <td>3</td>\n",
       "      <td>0.156250</td>\n",
       "      <td>basic</td>\n",
       "      <td>test</td>\n",
       "      <td>0.0</td>\n",
       "      <td>14</td>\n",
       "    </tr>\n",
       "    <tr>\n",
       "      <th>3</th>\n",
       "      <td>basic_00000r_14c\\20220413-1643\\test</td>\n",
       "      <td>batch_accuracy</td>\n",
       "      <td>4</td>\n",
       "      <td>0.164062</td>\n",
       "      <td>basic</td>\n",
       "      <td>test</td>\n",
       "      <td>0.0</td>\n",
       "      <td>14</td>\n",
       "    </tr>\n",
       "    <tr>\n",
       "      <th>4</th>\n",
       "      <td>basic_00000r_14c\\20220413-1643\\test</td>\n",
       "      <td>batch_accuracy</td>\n",
       "      <td>5</td>\n",
       "      <td>0.175000</td>\n",
       "      <td>basic</td>\n",
       "      <td>test</td>\n",
       "      <td>0.0</td>\n",
       "      <td>14</td>\n",
       "    </tr>\n",
       "  </tbody>\n",
       "</table>\n",
       "</div>"
      ],
      "text/plain": [
       "                                   run             tag  step     value  model  \\\n",
       "0  basic_00000r_14c\\20220413-1643\\test  batch_accuracy     1  0.000000  basic   \n",
       "1  basic_00000r_14c\\20220413-1643\\test  batch_accuracy     2  0.093750  basic   \n",
       "2  basic_00000r_14c\\20220413-1643\\test  batch_accuracy     3  0.156250  basic   \n",
       "3  basic_00000r_14c\\20220413-1643\\test  batch_accuracy     4  0.164062  basic   \n",
       "4  basic_00000r_14c\\20220413-1643\\test  batch_accuracy     5  0.175000  basic   \n",
       "\n",
       "   data  ratio classes  \n",
       "0  test    0.0      14  \n",
       "1  test    0.0      14  \n",
       "2  test    0.0      14  \n",
       "3  test    0.0      14  \n",
       "4  test    0.0      14  "
      ]
     },
     "execution_count": 272,
     "metadata": {},
     "output_type": "execute_result"
    }
   ],
   "source": [
    "print(df.columns)\n",
    "print(df.shape)\n",
    "print(len(df['run'].unique()))\n",
    "# print(df[\"tag\"].unique())\n",
    "df.head()"
   ]
  },
  {
   "cell_type": "code",
   "execution_count": 280,
   "metadata": {},
   "outputs": [],
   "source": [
    "# TODO: change csv file name\n",
    "df.to_csv('../logs/fle_testMetrics_raw.csv', index=False)"
   ]
  },
  {
   "cell_type": "markdown",
   "metadata": {},
   "source": [
    "------------\n",
    "\n",
    "#### accuracy plot"
   ]
  },
  {
   "cell_type": "code",
   "execution_count": 295,
   "metadata": {},
   "outputs": [
    {
     "data": {
      "text/html": [
       "<div>\n",
       "<style scoped>\n",
       "    .dataframe tbody tr th:only-of-type {\n",
       "        vertical-align: middle;\n",
       "    }\n",
       "\n",
       "    .dataframe tbody tr th {\n",
       "        vertical-align: top;\n",
       "    }\n",
       "\n",
       "    .dataframe thead th {\n",
       "        text-align: right;\n",
       "    }\n",
       "</style>\n",
       "<table border=\"1\" class=\"dataframe\">\n",
       "  <thead>\n",
       "    <tr style=\"text-align: right;\">\n",
       "      <th></th>\n",
       "      <th>model</th>\n",
       "      <th>classes</th>\n",
       "      <th>ratio</th>\n",
       "      <th>data</th>\n",
       "      <th>tag</th>\n",
       "      <th>step</th>\n",
       "      <th>value</th>\n",
       "    </tr>\n",
       "  </thead>\n",
       "  <tbody>\n",
       "    <tr>\n",
       "      <th>0</th>\n",
       "      <td>basic</td>\n",
       "      <td>14</td>\n",
       "      <td>0.00</td>\n",
       "      <td>test</td>\n",
       "      <td>epoch_accuracy</td>\n",
       "      <td>19.0</td>\n",
       "      <td>0.845858</td>\n",
       "    </tr>\n",
       "    <tr>\n",
       "      <th>1</th>\n",
       "      <td>basic</td>\n",
       "      <td>14</td>\n",
       "      <td>0.25</td>\n",
       "      <td>test</td>\n",
       "      <td>epoch_accuracy</td>\n",
       "      <td>19.0</td>\n",
       "      <td>0.832078</td>\n",
       "    </tr>\n",
       "    <tr>\n",
       "      <th>2</th>\n",
       "      <td>basic</td>\n",
       "      <td>14</td>\n",
       "      <td>0.50</td>\n",
       "      <td>test</td>\n",
       "      <td>epoch_accuracy</td>\n",
       "      <td>19.0</td>\n",
       "      <td>0.841190</td>\n",
       "    </tr>\n",
       "    <tr>\n",
       "      <th>3</th>\n",
       "      <td>basic</td>\n",
       "      <td>14</td>\n",
       "      <td>1.00</td>\n",
       "      <td>test</td>\n",
       "      <td>epoch_accuracy</td>\n",
       "      <td>19.0</td>\n",
       "      <td>0.823117</td>\n",
       "    </tr>\n",
       "    <tr>\n",
       "      <th>4</th>\n",
       "      <td>basic</td>\n",
       "      <td>14</td>\n",
       "      <td>2.00</td>\n",
       "      <td>test</td>\n",
       "      <td>epoch_accuracy</td>\n",
       "      <td>19.0</td>\n",
       "      <td>0.820331</td>\n",
       "    </tr>\n",
       "  </tbody>\n",
       "</table>\n",
       "</div>"
      ],
      "text/plain": [
       "   model classes  ratio  data             tag  step     value\n",
       "0  basic      14   0.00  test  epoch_accuracy  19.0  0.845858\n",
       "1  basic      14   0.25  test  epoch_accuracy  19.0  0.832078\n",
       "2  basic      14   0.50  test  epoch_accuracy  19.0  0.841190\n",
       "3  basic      14   1.00  test  epoch_accuracy  19.0  0.823117\n",
       "4  basic      14   2.00  test  epoch_accuracy  19.0  0.820331"
      ]
     },
     "execution_count": 295,
     "metadata": {},
     "output_type": "execute_result"
    }
   ],
   "source": [
    "df_epoch_accuracy = df.query(\"tag == 'epoch_accuracy' & step == 19 & run.str.contains('test')\")\n",
    "df_epoch_accuracy = df_epoch_accuracy.groupby(['model', 'classes', 'ratio', 'data', 'tag']).mean().reset_index()\n",
    "df_epoch_accuracy.head()"
   ]
  },
  {
   "cell_type": "code",
   "execution_count": 296,
   "metadata": {},
   "outputs": [
    {
     "data": {
      "text/html": [
       "<div>\n",
       "<style scoped>\n",
       "    .dataframe tbody tr th:only-of-type {\n",
       "        vertical-align: middle;\n",
       "    }\n",
       "\n",
       "    .dataframe tbody tr th {\n",
       "        vertical-align: top;\n",
       "    }\n",
       "\n",
       "    .dataframe thead th {\n",
       "        text-align: right;\n",
       "    }\n",
       "</style>\n",
       "<table border=\"1\" class=\"dataframe\">\n",
       "  <thead>\n",
       "    <tr style=\"text-align: right;\">\n",
       "      <th></th>\n",
       "      <th>model</th>\n",
       "      <th>classes</th>\n",
       "      <th>ratio</th>\n",
       "      <th>data</th>\n",
       "      <th>tag</th>\n",
       "      <th>step</th>\n",
       "      <th>value</th>\n",
       "    </tr>\n",
       "  </thead>\n",
       "  <tbody>\n",
       "    <tr>\n",
       "      <th>38</th>\n",
       "      <td>resnet</td>\n",
       "      <td>4</td>\n",
       "      <td>7.5</td>\n",
       "      <td>test</td>\n",
       "      <td>epoch_accuracy</td>\n",
       "      <td>19.0</td>\n",
       "      <td>0.866943</td>\n",
       "    </tr>\n",
       "  </tbody>\n",
       "</table>\n",
       "</div>"
      ],
      "text/plain": [
       "     model classes  ratio  data             tag  step     value\n",
       "38  resnet       4    7.5  test  epoch_accuracy  19.0  0.866943"
      ]
     },
     "execution_count": 296,
     "metadata": {},
     "output_type": "execute_result"
    }
   ],
   "source": [
    "df_epoch_accuracy.query(\"model == 'resnet' & classes == '4' & ratio > 5\")"
   ]
  },
  {
   "cell_type": "code",
   "execution_count": 321,
   "metadata": {},
   "outputs": [
    {
     "ename": "TypeError",
     "evalue": "'str' object is not callable",
     "output_type": "error",
     "traceback": [
      "\u001b[1;31m---------------------------------------------------------------------------\u001b[0m",
      "\u001b[1;31mTypeError\u001b[0m                                 Traceback (most recent call last)",
      "\u001b[1;32mc:\\Users\\daniel.czwalinna\\Documents\\GitLab\\false-labels-effect\\notebooks\\aggregation.ipynb Cell 12'\u001b[0m in \u001b[0;36m<module>\u001b[1;34m\u001b[0m\n\u001b[0;32m      <a href='vscode-notebook-cell:/c%3A/Users/daniel.czwalinna/Documents/GitLab/false-labels-effect/notebooks/aggregation.ipynb#ch0000025?line=0'>1</a>\u001b[0m df_hue \u001b[39m=\u001b[39m df_epoch_accuracy[[\u001b[39m'\u001b[39m\u001b[39mmodel\u001b[39m\u001b[39m'\u001b[39m, \u001b[39m'\u001b[39m\u001b[39mclasses\u001b[39m\u001b[39m'\u001b[39m]]\u001b[39m.\u001b[39mapply(\n\u001b[0;32m      <a href='vscode-notebook-cell:/c%3A/Users/daniel.czwalinna/Documents/GitLab/false-labels-effect/notebooks/aggregation.ipynb#ch0000025?line=1'>2</a>\u001b[0m     \u001b[39mlambda\u001b[39;00m row: \u001b[39mf\u001b[39m\u001b[39m'\u001b[39m\u001b[39m{\u001b[39;00mrow\u001b[39m.\u001b[39mmodel\u001b[39m}\u001b[39;00m\u001b[39m CNN, \u001b[39m\u001b[39m{\u001b[39;00mrow\u001b[39m.\u001b[39mclasses\u001b[39m}\u001b[39;00m\u001b[39m classes\u001b[39m\u001b[39m'\u001b[39m, axis\u001b[39m=\u001b[39m\u001b[39m1\u001b[39m\n\u001b[0;32m      <a href='vscode-notebook-cell:/c%3A/Users/daniel.czwalinna/Documents/GitLab/false-labels-effect/notebooks/aggregation.ipynb#ch0000025?line=2'>3</a>\u001b[0m )\n\u001b[1;32m----> <a href='vscode-notebook-cell:/c%3A/Users/daniel.czwalinna/Documents/GitLab/false-labels-effect/notebooks/aggregation.ipynb#ch0000025?line=4'>5</a>\u001b[0m \u001b[39mtype\u001b[39;49m(sns\u001b[39m.\u001b[39;49mlineplot(\n\u001b[0;32m      <a href='vscode-notebook-cell:/c%3A/Users/daniel.czwalinna/Documents/GitLab/false-labels-effect/notebooks/aggregation.ipynb#ch0000025?line=5'>6</a>\u001b[0m             data\u001b[39m=\u001b[39;49mdf_epoch_accuracy,\n\u001b[0;32m      <a href='vscode-notebook-cell:/c%3A/Users/daniel.czwalinna/Documents/GitLab/false-labels-effect/notebooks/aggregation.ipynb#ch0000025?line=6'>7</a>\u001b[0m             x\u001b[39m=\u001b[39;49m\u001b[39m'\u001b[39;49m\u001b[39mratio\u001b[39;49m\u001b[39m'\u001b[39;49m,\n\u001b[0;32m      <a href='vscode-notebook-cell:/c%3A/Users/daniel.czwalinna/Documents/GitLab/false-labels-effect/notebooks/aggregation.ipynb#ch0000025?line=7'>8</a>\u001b[0m             y\u001b[39m=\u001b[39;49m\u001b[39m'\u001b[39;49m\u001b[39mvalue\u001b[39;49m\u001b[39m'\u001b[39;49m,\n\u001b[0;32m      <a href='vscode-notebook-cell:/c%3A/Users/daniel.czwalinna/Documents/GitLab/false-labels-effect/notebooks/aggregation.ipynb#ch0000025?line=8'>9</a>\u001b[0m             hue\u001b[39m=\u001b[39;49mdf_hue,\n\u001b[0;32m     <a href='vscode-notebook-cell:/c%3A/Users/daniel.czwalinna/Documents/GitLab/false-labels-effect/notebooks/aggregation.ipynb#ch0000025?line=9'>10</a>\u001b[0m             palette\u001b[39m=\u001b[39;49m\u001b[39m'\u001b[39;49m\u001b[39mcolorblind\u001b[39;49m\u001b[39m'\u001b[39;49m\n\u001b[0;32m     <a href='vscode-notebook-cell:/c%3A/Users/daniel.czwalinna/Documents/GitLab/false-labels-effect/notebooks/aggregation.ipynb#ch0000025?line=10'>11</a>\u001b[0m         )\u001b[39m.\u001b[39;49mset(\n\u001b[0;32m     <a href='vscode-notebook-cell:/c%3A/Users/daniel.czwalinna/Documents/GitLab/false-labels-effect/notebooks/aggregation.ipynb#ch0000025?line=11'>12</a>\u001b[0m             xlabel\u001b[39m=\u001b[39;49m\u001b[39m'\u001b[39;49m\u001b[39mfalse labels ratio (\u001b[39;49m\u001b[39m%\u001b[39;49m\u001b[39m)\u001b[39;49m\u001b[39m'\u001b[39;49m,\n\u001b[0;32m     <a href='vscode-notebook-cell:/c%3A/Users/daniel.czwalinna/Documents/GitLab/false-labels-effect/notebooks/aggregation.ipynb#ch0000025?line=12'>13</a>\u001b[0m             ylabel\u001b[39m=\u001b[39;49m\u001b[39m'\u001b[39;49m\u001b[39mmodel accuracy\u001b[39;49m\u001b[39m'\u001b[39;49m,\n\u001b[0;32m     <a href='vscode-notebook-cell:/c%3A/Users/daniel.czwalinna/Documents/GitLab/false-labels-effect/notebooks/aggregation.ipynb#ch0000025?line=13'>14</a>\u001b[0m             ylim\u001b[39m=\u001b[39;49m(\u001b[39m0.5\u001b[39;49m,\u001b[39m1\u001b[39;49m),\n\u001b[0;32m     <a href='vscode-notebook-cell:/c%3A/Users/daniel.czwalinna/Documents/GitLab/false-labels-effect/notebooks/aggregation.ipynb#ch0000025?line=14'>15</a>\u001b[0m             title\u001b[39m=\u001b[39;49m\u001b[39m'\u001b[39;49m\u001b[39mModel Accuracy over False Labels Ratio\u001b[39;49m\u001b[39m'\u001b[39;49m\n\u001b[0;32m     <a href='vscode-notebook-cell:/c%3A/Users/daniel.czwalinna/Documents/GitLab/false-labels-effect/notebooks/aggregation.ipynb#ch0000025?line=15'>16</a>\u001b[0m         ))\n",
      "\u001b[1;31mTypeError\u001b[0m: 'str' object is not callable"
     ]
    },
    {
     "data": {
      "image/png": "[encoded data removed]",
      "text/plain": [
       "<Figure size 432x288 with 1 Axes>"
      ]
     },
     "metadata": {
      "needs_background": "light"
     },
     "output_type": "display_data"
    }
   ],
   "source": [
    "df_hue = df_epoch_accuracy[['model', 'classes']].apply(\n",
    "    lambda row: f'{row.model} CNN, {row.classes} classes', axis=1\n",
    ")\n",
    "\n",
    "acc_plot = sns.lineplot(\n",
    "            data=df_epoch_accuracy,\n",
    "            x='ratio',\n",
    "            y='value',\n",
    "            hue=df_hue,\n",
    "            palette='colorblind'\n",
    "        ).set(\n",
    "            xlabel='false labels ratio (%)',\n",
    "            ylabel='model accuracy',\n",
    "            ylim=(0.5,1),\n",
    "            title='Model Accuracy over False Labels Ratio'\n",
    "        )"
   ]
  },
  {
   "cell_type": "markdown",
   "metadata": {},
   "source": [
    "------------\n",
    "\n",
    "#### weighted avg precision plot"
   ]
  },
  {
   "cell_type": "code",
   "execution_count": 300,
   "metadata": {},
   "outputs": [
    {
     "data": {
      "text/html": [
       "<div>\n",
       "<style scoped>\n",
       "    .dataframe tbody tr th:only-of-type {\n",
       "        vertical-align: middle;\n",
       "    }\n",
       "\n",
       "    .dataframe tbody tr th {\n",
       "        vertical-align: top;\n",
       "    }\n",
       "\n",
       "    .dataframe thead th {\n",
       "        text-align: right;\n",
       "    }\n",
       "</style>\n",
       "<table border=\"1\" class=\"dataframe\">\n",
       "  <thead>\n",
       "    <tr style=\"text-align: right;\">\n",
       "      <th></th>\n",
       "      <th>model</th>\n",
       "      <th>classes</th>\n",
       "      <th>ratio</th>\n",
       "      <th>data</th>\n",
       "      <th>tag</th>\n",
       "      <th>step</th>\n",
       "      <th>value</th>\n",
       "    </tr>\n",
       "  </thead>\n",
       "  <tbody>\n",
       "    <tr>\n",
       "      <th>0</th>\n",
       "      <td>basic</td>\n",
       "      <td>14</td>\n",
       "      <td>0.00</td>\n",
       "      <td>test</td>\n",
       "      <td>epoch_precision_weighted</td>\n",
       "      <td>19.0</td>\n",
       "      <td>0.858955</td>\n",
       "    </tr>\n",
       "    <tr>\n",
       "      <th>1</th>\n",
       "      <td>basic</td>\n",
       "      <td>14</td>\n",
       "      <td>0.25</td>\n",
       "      <td>test</td>\n",
       "      <td>epoch_precision_weighted</td>\n",
       "      <td>19.0</td>\n",
       "      <td>0.843824</td>\n",
       "    </tr>\n",
       "    <tr>\n",
       "      <th>2</th>\n",
       "      <td>basic</td>\n",
       "      <td>14</td>\n",
       "      <td>0.50</td>\n",
       "      <td>test</td>\n",
       "      <td>epoch_precision_weighted</td>\n",
       "      <td>19.0</td>\n",
       "      <td>0.860047</td>\n",
       "    </tr>\n",
       "    <tr>\n",
       "      <th>3</th>\n",
       "      <td>basic</td>\n",
       "      <td>14</td>\n",
       "      <td>1.00</td>\n",
       "      <td>test</td>\n",
       "      <td>epoch_precision_weighted</td>\n",
       "      <td>19.0</td>\n",
       "      <td>0.837603</td>\n",
       "    </tr>\n",
       "    <tr>\n",
       "      <th>4</th>\n",
       "      <td>basic</td>\n",
       "      <td>14</td>\n",
       "      <td>2.00</td>\n",
       "      <td>test</td>\n",
       "      <td>epoch_precision_weighted</td>\n",
       "      <td>19.0</td>\n",
       "      <td>0.832011</td>\n",
       "    </tr>\n",
       "  </tbody>\n",
       "</table>\n",
       "</div>"
      ],
      "text/plain": [
       "   model classes  ratio  data                       tag  step     value\n",
       "0  basic      14   0.00  test  epoch_precision_weighted  19.0  0.858955\n",
       "1  basic      14   0.25  test  epoch_precision_weighted  19.0  0.843824\n",
       "2  basic      14   0.50  test  epoch_precision_weighted  19.0  0.860047\n",
       "3  basic      14   1.00  test  epoch_precision_weighted  19.0  0.837603\n",
       "4  basic      14   2.00  test  epoch_precision_weighted  19.0  0.832011"
      ]
     },
     "execution_count": 300,
     "metadata": {},
     "output_type": "execute_result"
    }
   ],
   "source": [
    "df_epoch_precision_w = df.query(\"tag == 'epoch_precision_weighted' & step == 19 & run.str.contains('test')\")\n",
    "df_epoch_precision_w = df_epoch_precision_w.groupby(['model', 'classes', 'ratio', 'data', 'tag']).mean().reset_index()\n",
    "df_epoch_precision_w.head()"
   ]
  },
  {
   "cell_type": "code",
   "execution_count": 302,
   "metadata": {},
   "outputs": [
    {
     "data": {
      "text/plain": [
       "[Text(0.5, 0, 'false labels ratio (%)'),\n",
       " Text(0, 0.5, 'model precision (weighted)'),\n",
       " (0.5, 1.0),\n",
       " Text(0.5, 1.0, 'Model Precision (weighted) over False Labels Ratio')]"
      ]
     },
     "execution_count": 302,
     "metadata": {},
     "output_type": "execute_result"
    },
    {
     "data": {
      "image/png": "[encoded data removed]",
      "text/plain": [
       "<Figure size 432x288 with 1 Axes>"
      ]
     },
     "metadata": {
      "needs_background": "light"
     },
     "output_type": "display_data"
    }
   ],
   "source": [
    "df_hue = df_epoch_precision_w[['model', 'classes']].apply(\n",
    "    lambda row: f'{row.model} CNN, {row.classes} classes', axis=1\n",
    ")\n",
    "\n",
    "sns.lineplot(\n",
    "            data=df_epoch_precision_w,\n",
    "            x='ratio',\n",
    "            y='value',\n",
    "            hue=df_hue,\n",
    "            palette='colorblind'\n",
    "        ).set(\n",
    "            xlabel='false labels ratio (%)',\n",
    "            ylabel='model precision (weighted)',\n",
    "            ylim=(0.5,1),\n",
    "            title='Model Precision (weighted) over False Labels Ratio'\n",
    "        )"
   ]
  },
  {
   "cell_type": "code",
   "execution_count": null,
   "metadata": {},
   "outputs": [],
   "source": [
    "plt.savefig('fle_precision_fl-ratio.png')"
   ]
  },
  {
   "cell_type": "markdown",
   "metadata": {},
   "source": [
    "------------\n",
    "\n",
    "#### weighted avg recall plot"
   ]
  },
  {
   "cell_type": "code",
   "execution_count": 304,
   "metadata": {},
   "outputs": [
    {
     "data": {
      "text/html": [
       "<div>\n",
       "<style scoped>\n",
       "    .dataframe tbody tr th:only-of-type {\n",
       "        vertical-align: middle;\n",
       "    }\n",
       "\n",
       "    .dataframe tbody tr th {\n",
       "        vertical-align: top;\n",
       "    }\n",
       "\n",
       "    .dataframe thead th {\n",
       "        text-align: right;\n",
       "    }\n",
       "</style>\n",
       "<table border=\"1\" class=\"dataframe\">\n",
       "  <thead>\n",
       "    <tr style=\"text-align: right;\">\n",
       "      <th></th>\n",
       "      <th>model</th>\n",
       "      <th>classes</th>\n",
       "      <th>ratio</th>\n",
       "      <th>data</th>\n",
       "      <th>tag</th>\n",
       "      <th>step</th>\n",
       "      <th>value</th>\n",
       "    </tr>\n",
       "  </thead>\n",
       "  <tbody>\n",
       "    <tr>\n",
       "      <th>0</th>\n",
       "      <td>basic</td>\n",
       "      <td>14</td>\n",
       "      <td>0.00</td>\n",
       "      <td>test</td>\n",
       "      <td>epoch_recall_weighted</td>\n",
       "      <td>19.0</td>\n",
       "      <td>0.845858</td>\n",
       "    </tr>\n",
       "    <tr>\n",
       "      <th>1</th>\n",
       "      <td>basic</td>\n",
       "      <td>14</td>\n",
       "      <td>0.25</td>\n",
       "      <td>test</td>\n",
       "      <td>epoch_recall_weighted</td>\n",
       "      <td>19.0</td>\n",
       "      <td>0.832078</td>\n",
       "    </tr>\n",
       "    <tr>\n",
       "      <th>2</th>\n",
       "      <td>basic</td>\n",
       "      <td>14</td>\n",
       "      <td>0.50</td>\n",
       "      <td>test</td>\n",
       "      <td>epoch_recall_weighted</td>\n",
       "      <td>19.0</td>\n",
       "      <td>0.841190</td>\n",
       "    </tr>\n",
       "    <tr>\n",
       "      <th>3</th>\n",
       "      <td>basic</td>\n",
       "      <td>14</td>\n",
       "      <td>1.00</td>\n",
       "      <td>test</td>\n",
       "      <td>epoch_recall_weighted</td>\n",
       "      <td>19.0</td>\n",
       "      <td>0.823117</td>\n",
       "    </tr>\n",
       "    <tr>\n",
       "      <th>4</th>\n",
       "      <td>basic</td>\n",
       "      <td>14</td>\n",
       "      <td>2.00</td>\n",
       "      <td>test</td>\n",
       "      <td>epoch_recall_weighted</td>\n",
       "      <td>19.0</td>\n",
       "      <td>0.820331</td>\n",
       "    </tr>\n",
       "  </tbody>\n",
       "</table>\n",
       "</div>"
      ],
      "text/plain": [
       "   model classes  ratio  data                    tag  step     value\n",
       "0  basic      14   0.00  test  epoch_recall_weighted  19.0  0.845858\n",
       "1  basic      14   0.25  test  epoch_recall_weighted  19.0  0.832078\n",
       "2  basic      14   0.50  test  epoch_recall_weighted  19.0  0.841190\n",
       "3  basic      14   1.00  test  epoch_recall_weighted  19.0  0.823117\n",
       "4  basic      14   2.00  test  epoch_recall_weighted  19.0  0.820331"
      ]
     },
     "execution_count": 304,
     "metadata": {},
     "output_type": "execute_result"
    }
   ],
   "source": [
    "df_epoch_recall_w = df.query(\"tag == 'epoch_recall_weighted' & step == 19 & run.str.contains('test')\")\n",
    "df_epoch_recall_w = df_epoch_recall_w.groupby(['model', 'classes', 'ratio', 'data', 'tag']).mean().reset_index()\n",
    "df_epoch_recall_w.head()"
   ]
  },
  {
   "cell_type": "code",
   "execution_count": 305,
   "metadata": {},
   "outputs": [
    {
     "data": {
      "text/plain": [
       "[Text(0.5, 0, 'false labels ratio (%)'),\n",
       " Text(0, 0.5, 'model recall (weighted)'),\n",
       " (0.5, 1.0),\n",
       " Text(0.5, 1.0, 'Model Recall (weighted) over False Labels Ratio')]"
      ]
     },
     "execution_count": 305,
     "metadata": {},
     "output_type": "execute_result"
    },
    {
     "data": {
      "image/png": "[encoded data removed]",
      "text/plain": [
       "<Figure size 432x288 with 1 Axes>"
      ]
     },
     "metadata": {
      "needs_background": "light"
     },
     "output_type": "display_data"
    }
   ],
   "source": [
    "df_hue = df_epoch_recall_w[['model', 'classes']].apply(\n",
    "    lambda row: f'{row.model} CNN, {row.classes} classes', axis=1\n",
    ")\n",
    "\n",
    "sns.lineplot(\n",
    "            data=df_epoch_recall_w,\n",
    "            x='ratio',\n",
    "            y='value',\n",
    "            hue=df_hue,\n",
    "            palette='colorblind'\n",
    "        ).set(\n",
    "            xlabel='false labels ratio (%)',\n",
    "            ylabel='model recall (weighted)',\n",
    "            ylim=(0.5,1),\n",
    "            title='Model Recall (weighted) over False Labels Ratio'\n",
    "        )"
   ]
  },
  {
   "cell_type": "code",
   "execution_count": null,
   "metadata": {},
   "outputs": [],
   "source": [
    "plt.savefig('fle_recall_fl-ratio.png')"
   ]
  },
  {
   "cell_type": "markdown",
   "metadata": {},
   "source": [
    "------------\n",
    "\n",
    "#### weighted avg f1-score plot"
   ]
  },
  {
   "cell_type": "code",
   "execution_count": 306,
   "metadata": {},
   "outputs": [
    {
     "data": {
      "text/html": [
       "<div>\n",
       "<style scoped>\n",
       "    .dataframe tbody tr th:only-of-type {\n",
       "        vertical-align: middle;\n",
       "    }\n",
       "\n",
       "    .dataframe tbody tr th {\n",
       "        vertical-align: top;\n",
       "    }\n",
       "\n",
       "    .dataframe thead th {\n",
       "        text-align: right;\n",
       "    }\n",
       "</style>\n",
       "<table border=\"1\" class=\"dataframe\">\n",
       "  <thead>\n",
       "    <tr style=\"text-align: right;\">\n",
       "      <th></th>\n",
       "      <th>model</th>\n",
       "      <th>classes</th>\n",
       "      <th>ratio</th>\n",
       "      <th>data</th>\n",
       "      <th>tag</th>\n",
       "      <th>step</th>\n",
       "      <th>value</th>\n",
       "    </tr>\n",
       "  </thead>\n",
       "  <tbody>\n",
       "    <tr>\n",
       "      <th>0</th>\n",
       "      <td>basic</td>\n",
       "      <td>14</td>\n",
       "      <td>0.00</td>\n",
       "      <td>test</td>\n",
       "      <td>epoch_f1-score_weighted</td>\n",
       "      <td>19.0</td>\n",
       "      <td>0.846319</td>\n",
       "    </tr>\n",
       "    <tr>\n",
       "      <th>1</th>\n",
       "      <td>basic</td>\n",
       "      <td>14</td>\n",
       "      <td>0.25</td>\n",
       "      <td>test</td>\n",
       "      <td>epoch_f1-score_weighted</td>\n",
       "      <td>19.0</td>\n",
       "      <td>0.831295</td>\n",
       "    </tr>\n",
       "    <tr>\n",
       "      <th>2</th>\n",
       "      <td>basic</td>\n",
       "      <td>14</td>\n",
       "      <td>0.50</td>\n",
       "      <td>test</td>\n",
       "      <td>epoch_f1-score_weighted</td>\n",
       "      <td>19.0</td>\n",
       "      <td>0.838249</td>\n",
       "    </tr>\n",
       "    <tr>\n",
       "      <th>3</th>\n",
       "      <td>basic</td>\n",
       "      <td>14</td>\n",
       "      <td>1.00</td>\n",
       "      <td>test</td>\n",
       "      <td>epoch_f1-score_weighted</td>\n",
       "      <td>19.0</td>\n",
       "      <td>0.820368</td>\n",
       "    </tr>\n",
       "    <tr>\n",
       "      <th>4</th>\n",
       "      <td>basic</td>\n",
       "      <td>14</td>\n",
       "      <td>2.00</td>\n",
       "      <td>test</td>\n",
       "      <td>epoch_f1-score_weighted</td>\n",
       "      <td>19.0</td>\n",
       "      <td>0.819614</td>\n",
       "    </tr>\n",
       "  </tbody>\n",
       "</table>\n",
       "</div>"
      ],
      "text/plain": [
       "   model classes  ratio  data                      tag  step     value\n",
       "0  basic      14   0.00  test  epoch_f1-score_weighted  19.0  0.846319\n",
       "1  basic      14   0.25  test  epoch_f1-score_weighted  19.0  0.831295\n",
       "2  basic      14   0.50  test  epoch_f1-score_weighted  19.0  0.838249\n",
       "3  basic      14   1.00  test  epoch_f1-score_weighted  19.0  0.820368\n",
       "4  basic      14   2.00  test  epoch_f1-score_weighted  19.0  0.819614"
      ]
     },
     "execution_count": 306,
     "metadata": {},
     "output_type": "execute_result"
    }
   ],
   "source": [
    "df_epoch_f1score_w = df.query(\"tag == 'epoch_f1-score_weighted' & step == 19 & run.str.contains('test')\")\n",
    "df_epoch_f1score_w = df_epoch_f1score_w.groupby(['model', 'classes', 'ratio', 'data', 'tag']).mean().reset_index()\n",
    "df_epoch_f1score_w.head()"
   ]
  },
  {
   "cell_type": "code",
   "execution_count": 308,
   "metadata": {},
   "outputs": [
    {
     "data": {
      "text/plain": [
       "[Text(0.5, 0, 'false labels ratio (%)'),\n",
       " Text(0, 0.5, 'model f1-score (weighted)'),\n",
       " (0.5, 1.0),\n",
       " Text(0.5, 1.0, 'Model f1-score (weighted) over False Labels Ratio')]"
      ]
     },
     "execution_count": 308,
     "metadata": {},
     "output_type": "execute_result"
    },
    {
     "data": {
      "image/png": "[encoded data removed]",
      "text/plain": [
       "<Figure size 432x288 with 1 Axes>"
      ]
     },
     "metadata": {
      "needs_background": "light"
     },
     "output_type": "display_data"
    }
   ],
   "source": [
    "df_hue = df_epoch_f1score_w[['model', 'classes']].apply(\n",
    "    lambda row: f'{row.model} CNN, {row.classes} classes', axis=1\n",
    ")\n",
    "\n",
    "sns.lineplot(\n",
    "            data=df_epoch_f1score_w,\n",
    "            x='ratio',\n",
    "            y='value',\n",
    "            hue=df_hue,\n",
    "            palette='colorblind'\n",
    "        ).set(\n",
    "            xlabel='false labels ratio (%)',\n",
    "            ylabel='model f1-score (weighted)',\n",
    "            ylim=(0.5,1),\n",
    "            title='Model f1-score (weighted) over False Labels Ratio'\n",
    "        )"
   ]
  },
  {
   "cell_type": "code",
   "execution_count": null,
   "metadata": {},
   "outputs": [],
   "source": [
    "plt.savefig('fle_f1-score_fl-ratio.png')"
   ]
  }
 ],
 "metadata": {
  "interpreter": {
   "hash": "785473fea46f9ac689a96b3810ed86c0f03e438ffd4c73e9fe241b9bd8d70125"
  },
  "kernelspec": {
   "display_name": "Python 3.8.12 ('false-labels')",
   "language": "python",
   "name": "python3"
  },
  "language_info": {
   "codemirror_mode": {
    "name": "ipython",
    "version": 3
   },
   "file_extension": ".py",
   "mimetype": "text/x-python",
   "name": "python",
   "nbconvert_exporter": "python",
   "pygments_lexer": "ipython3",
   "version": "3.8.12"
  },
  "orig_nbformat": 4
 },
 "nbformat": 4,
 "nbformat_minor": 2
}
