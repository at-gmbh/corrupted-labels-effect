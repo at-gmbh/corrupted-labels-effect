{
 "cells": [
  {
   "cell_type": "code",
   "execution_count": 2,
   "metadata": {},
   "outputs": [],
   "source": [
    "# imports\n",
    "import matplotlib.pyplot as plt\n",
    "import pandas as pd\n",
    "import seaborn as sns"
   ]
  },
  {
   "cell_type": "code",
   "execution_count": 6,
   "metadata": {},
   "outputs": [],
   "source": [
    "regr_results_log_path = '../logs/regr_results/'\n",
    "result_file = regr_results_log_path + \"regr_results.csv\"\n",
    "df_results = pd.read_csv(result_file)"
   ]
  },
  {
   "cell_type": "code",
   "execution_count": 7,
   "metadata": {},
   "outputs": [
    {
     "data": {
      "text/html": [
       "<div>\n",
       "<style scoped>\n",
       "    .dataframe tbody tr th:only-of-type {\n",
       "        vertical-align: middle;\n",
       "    }\n",
       "\n",
       "    .dataframe tbody tr th {\n",
       "        vertical-align: top;\n",
       "    }\n",
       "\n",
       "    .dataframe thead th {\n",
       "        text-align: right;\n",
       "    }\n",
       "</style>\n",
       "<table border=\"1\" class=\"dataframe\">\n",
       "  <thead>\n",
       "    <tr style=\"text-align: right;\">\n",
       "      <th></th>\n",
       "      <th>regressor</th>\n",
       "      <th>regressand</th>\n",
       "      <th>model</th>\n",
       "      <th>classification_task</th>\n",
       "      <th>n</th>\n",
       "      <th>group_by</th>\n",
       "      <th>delta</th>\n",
       "      <th>zscore_threshold</th>\n",
       "      <th>pearsonr</th>\n",
       "      <th>p_value</th>\n",
       "      <th>estimator</th>\n",
       "      <th>neg_rmse_train</th>\n",
       "      <th>neg_rmse_test</th>\n",
       "      <th>r2_train</th>\n",
       "      <th>r2_test</th>\n",
       "      <th>best_params</th>\n",
       "    </tr>\n",
       "  </thead>\n",
       "  <tbody>\n",
       "    <tr>\n",
       "      <th>0</th>\n",
       "      <td>accuracy</td>\n",
       "      <td>false_labels_ratio</td>\n",
       "      <td>all</td>\n",
       "      <td>all</td>\n",
       "      <td>800</td>\n",
       "      <td>NaN</td>\n",
       "      <td>False</td>\n",
       "      <td>False</td>\n",
       "      <td>-0.566728</td>\n",
       "      <td>3.683329e-69</td>\n",
       "      <td>LinearRegression()</td>\n",
       "      <td>-2.597920</td>\n",
       "      <td>-2.792030</td>\n",
       "      <td>0.344162</td>\n",
       "      <td>0.228223</td>\n",
       "      <td>{}</td>\n",
       "    </tr>\n",
       "    <tr>\n",
       "      <th>1</th>\n",
       "      <td>accuracy</td>\n",
       "      <td>false_labels_ratio</td>\n",
       "      <td>all</td>\n",
       "      <td>all</td>\n",
       "      <td>800</td>\n",
       "      <td>NaN</td>\n",
       "      <td>False</td>\n",
       "      <td>False</td>\n",
       "      <td>-0.566728</td>\n",
       "      <td>3.683329e-69</td>\n",
       "      <td>LinearRegression()</td>\n",
       "      <td>-2.628892</td>\n",
       "      <td>-2.612937</td>\n",
       "      <td>0.320310</td>\n",
       "      <td>0.324058</td>\n",
       "      <td>{}</td>\n",
       "    </tr>\n",
       "  </tbody>\n",
       "</table>\n",
       "</div>"
      ],
      "text/plain": [
       "  regressor          regressand model classification_task    n  group_by  \\\n",
       "0  accuracy  false_labels_ratio   all                 all  800       NaN   \n",
       "1  accuracy  false_labels_ratio   all                 all  800       NaN   \n",
       "\n",
       "   delta  zscore_threshold  pearsonr       p_value           estimator  \\\n",
       "0  False             False -0.566728  3.683329e-69  LinearRegression()   \n",
       "1  False             False -0.566728  3.683329e-69  LinearRegression()   \n",
       "\n",
       "   neg_rmse_train  neg_rmse_test  r2_train   r2_test best_params  \n",
       "0       -2.597920      -2.792030  0.344162  0.228223          {}  \n",
       "1       -2.628892      -2.612937  0.320310  0.324058          {}  "
      ]
     },
     "execution_count": 7,
     "metadata": {},
     "output_type": "execute_result"
    }
   ],
   "source": [
    "df_results"
   ]
  },
  {
   "cell_type": "code",
   "execution_count": null,
   "metadata": {},
   "outputs": [
    {
     "data": {
      "image/png": "[encoded data removed]",
      "text/plain": [
       "<Figure size 842.4x595.44 with 1 Axes>"
      ]
     },
     "metadata": {},
     "output_type": "display_data"
    }
   ],
   "source": [
    "# visualize estimator performance\n",
    "# FIXME: \n",
    "estimator = ElasticNet(**df_regr_results['best_params'].iloc[1])\n",
    "y_pred = estimator.fit(X_train, y_train).predict(X_test)\n",
    "\n",
    "sns.set(rc={'figure.figsize':(11.7,8.27)})\n",
    "ax = sns.scatterplot(x=y_test, y=y_pred)\n",
    "ax.set(xlabel='True', ylabel='Predicted')\n",
    "plt.show()"
   ]
  }
 ],
 "metadata": {
  "interpreter": {
   "hash": "c041ee5eca0bebec98353fb08f3f656fe2677ac141976eeebd4959b2f854b27b"
  },
  "kernelspec": {
   "display_name": "Python 3.8.12 ('false-labels')",
   "language": "python",
   "name": "python3"
  },
  "language_info": {
   "codemirror_mode": {
    "name": "ipython",
    "version": 3
   },
   "file_extension": ".py",
   "mimetype": "text/x-python",
   "name": "python",
   "nbconvert_exporter": "python",
   "pygments_lexer": "ipython3",
   "version": "3.8.12"
  },
  "orig_nbformat": 4
 },
 "nbformat": 4,
 "nbformat_minor": 2
}
