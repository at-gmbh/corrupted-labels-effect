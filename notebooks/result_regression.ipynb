{
 "cells": [
  {
   "cell_type": "code",
   "execution_count": 79,
   "metadata": {},
   "outputs": [],
   "source": [
    "# imports\n",
    "import ast\n",
    "import os\n",
    "import sys\n",
    "\n",
    "import matplotlib.pyplot as plt\n",
    "import pandas as pd\n",
    "import seaborn as sns\n",
    "from sklearn.metrics import r2_score\n",
    "from sklearn.model_selection import train_test_split\n",
    "from sklearn.preprocessing import StandardScaler\n",
    "\n",
    "# load util functions\n",
    "module_path = os.getcwd()[:-9]\n",
    "sys.path.insert(0, module_path)\n",
    "import src.evaluation.util as util\n",
    "sys.path.remove(module_path)"
   ]
  },
  {
   "cell_type": "code",
   "execution_count": 46,
   "metadata": {},
   "outputs": [],
   "source": [
    "# define paths\n",
    "regr_results_log_path = '../logs/regr_results/'\n",
    "aggr_class_report_log_path = '../data/'"
   ]
  },
  {
   "cell_type": "code",
   "execution_count": 59,
   "metadata": {},
   "outputs": [],
   "source": [
    "# load regression results table\n",
    "result_file = regr_results_log_path + \"regr_results.csv\"\n",
    "df_regr_results = pd.read_csv(result_file)"
   ]
  },
  {
   "cell_type": "code",
   "execution_count": 60,
   "metadata": {},
   "outputs": [
    {
     "data": {
      "text/html": [
       "<div>\n",
       "<style scoped>\n",
       "    .dataframe tbody tr th:only-of-type {\n",
       "        vertical-align: middle;\n",
       "    }\n",
       "\n",
       "    .dataframe tbody tr th {\n",
       "        vertical-align: top;\n",
       "    }\n",
       "\n",
       "    .dataframe thead th {\n",
       "        text-align: right;\n",
       "    }\n",
       "</style>\n",
       "<table border=\"1\" class=\"dataframe\">\n",
       "  <thead>\n",
       "    <tr style=\"text-align: right;\">\n",
       "      <th></th>\n",
       "      <th>regressor</th>\n",
       "      <th>regressand</th>\n",
       "      <th>model</th>\n",
       "      <th>classification_task</th>\n",
       "      <th>n</th>\n",
       "      <th>group_by</th>\n",
       "      <th>delta</th>\n",
       "      <th>zscore_threshold</th>\n",
       "      <th>pearsonr</th>\n",
       "      <th>p_value</th>\n",
       "      <th>estimator</th>\n",
       "      <th>neg_rmse_train</th>\n",
       "      <th>neg_rmse_test</th>\n",
       "      <th>r2_train</th>\n",
       "      <th>r2_test</th>\n",
       "      <th>best_params</th>\n",
       "    </tr>\n",
       "  </thead>\n",
       "  <tbody>\n",
       "    <tr>\n",
       "      <th>0</th>\n",
       "      <td>accuracy</td>\n",
       "      <td>false_labels_ratio</td>\n",
       "      <td>all</td>\n",
       "      <td>all</td>\n",
       "      <td>800</td>\n",
       "      <td>{'model': False, 'classes': False, 'ratio': Fa...</td>\n",
       "      <td>False</td>\n",
       "      <td>False</td>\n",
       "      <td>-0.566728</td>\n",
       "      <td>3.683329e-69</td>\n",
       "      <td>SVR()</td>\n",
       "      <td>-2.654621</td>\n",
       "      <td>-2.490946</td>\n",
       "      <td>0.298217</td>\n",
       "      <td>0.385700</td>\n",
       "      <td>{'C': 10.0, 'coef0': 0.8, 'degree': 3, 'gamma'...</td>\n",
       "    </tr>\n",
       "    <tr>\n",
       "      <th>1</th>\n",
       "      <td>accuracy</td>\n",
       "      <td>false_labels_ratio</td>\n",
       "      <td>all</td>\n",
       "      <td>all</td>\n",
       "      <td>800</td>\n",
       "      <td>{'model': False, 'classes': False, 'ratio': Fa...</td>\n",
       "      <td>False</td>\n",
       "      <td>False</td>\n",
       "      <td>-0.566728</td>\n",
       "      <td>3.683329e-69</td>\n",
       "      <td>SVR()</td>\n",
       "      <td>-2.581797</td>\n",
       "      <td>-2.847526</td>\n",
       "      <td>0.343331</td>\n",
       "      <td>0.197237</td>\n",
       "      <td>{'C': 0.1, 'coef0': 0.8, 'degree': 3, 'gamma':...</td>\n",
       "    </tr>\n",
       "  </tbody>\n",
       "</table>\n",
       "</div>"
      ],
      "text/plain": [
       "  regressor          regressand model classification_task    n  \\\n",
       "0  accuracy  false_labels_ratio   all                 all  800   \n",
       "1  accuracy  false_labels_ratio   all                 all  800   \n",
       "\n",
       "                                            group_by  delta  zscore_threshold  \\\n",
       "0  {'model': False, 'classes': False, 'ratio': Fa...  False             False   \n",
       "1  {'model': False, 'classes': False, 'ratio': Fa...  False             False   \n",
       "\n",
       "   pearsonr       p_value estimator  neg_rmse_train  neg_rmse_test  r2_train  \\\n",
       "0 -0.566728  3.683329e-69     SVR()       -2.654621      -2.490946  0.298217   \n",
       "1 -0.566728  3.683329e-69     SVR()       -2.581797      -2.847526  0.343331   \n",
       "\n",
       "    r2_test                                        best_params  \n",
       "0  0.385700  {'C': 10.0, 'coef0': 0.8, 'degree': 3, 'gamma'...  \n",
       "1  0.197237  {'C': 0.1, 'coef0': 0.8, 'degree': 3, 'gamma':...  "
      ]
     },
     "execution_count": 60,
     "metadata": {},
     "output_type": "execute_result"
    }
   ],
   "source": [
    "df_regr_results"
   ]
  },
  {
   "cell_type": "code",
   "execution_count": 61,
   "metadata": {},
   "outputs": [],
   "source": [
    "# --> TODO: select index of regression to use for y_true / y_pred visualization <--\n",
    "index = 1\n",
    "\n",
    "# set regression parameters based on index and regression result table\n",
    "regressor = df_regr_results.iloc[index]['regressor']\n",
    "\n",
    "cnn = df_regr_results.iloc[index]['model']\n",
    "if cnn == 'all': cnn = False\n",
    "\n",
    "classes = df_regr_results.iloc[index]['classification_task']\n",
    "if classes == 'all': classes = False\n",
    "\n",
    "use_delta = df_regr_results.iloc[index]['delta']\n",
    "\n",
    "group_by = df_regr_results.iloc[index]['group_by']\n",
    "group_by = ast.literal_eval(group_by)\n",
    "use_grouping = any(group_by.values())\n",
    "\n",
    "zscore_threshold = df_regr_results.iloc[index]['zscore_threshold']\n",
    "\n",
    "best_params = df_regr_results.iloc[index]['best_params']\n",
    "best_params = ast.literal_eval(best_params)\n",
    "\n",
    "estimator_name = df_regr_results.iloc[index]['estimator'][:-2]"
   ]
  },
  {
   "cell_type": "code",
   "execution_count": 62,
   "metadata": {},
   "outputs": [
    {
     "name": "stdout",
     "output_type": "stream",
     "text": [
      "\t800 classification reports loaded - df.shape (5600, 6)\n",
      "\t0 rows filtered\n",
      "\tRegression df.shape: (800, 6)\n"
     ]
    }
   ],
   "source": [
    "# load classification results table\n",
    "df_class_results_raw = util.load_aggr_class_reports(aggr_class_report_log_path)\n",
    "\n",
    "# process data based on parameters\n",
    "df_regression = df_class_results_raw.query(f'metric == \"{regressor}\"')\n",
    "df_regression = df_regression.drop(['run'], axis=1)\n",
    "df_regression = df_regression.rename(columns={'value': regressor})\n",
    "df_regression = util.calc_delta(df_class_results_raw, df_regression, regressor)\n",
    "\n",
    "# filter data for set properties\n",
    "df_regression = util.filter_data(\n",
    "    use_grouping, group_by, df_regression, cnn, classes\n",
    ")\n",
    "\n",
    "# filter outliers if properties are set\n",
    "df_regression = util.filter_outliers(\n",
    "    df_regression, regressor, use_grouping, zscore_threshold\n",
    ")\n",
    "\n",
    "df_regression.reset_index(inplace=True, drop=True)\n",
    "print(f'\\tRegression df.shape: {df_regression.shape}')"
   ]
  },
  {
   "cell_type": "code",
   "execution_count": 76,
   "metadata": {},
   "outputs": [],
   "source": [
    "# get independent and dependent variables\n",
    "if use_delta:\n",
    "    X_df = df_regression[[f'{regressor}_delta']]\n",
    "else:\n",
    "    X_df = df_regression[[regressor]]\n",
    "y_df = df_regression['ratio']\n",
    "\n",
    "# split data - random state to reproduce split in initial model selection\n",
    "test_split = 0.2\n",
    "if use_grouping:\n",
    "    X_train, X_test, y_train, y_test = train_test_split(\n",
    "                                                X_df\n",
    "                                                , y_df\n",
    "                                                , test_size=test_split\n",
    "                                                , random_state=71\n",
    "                                            )\n",
    "else:\n",
    "    X_train, X_test, y_train, y_test = train_test_split(\n",
    "                                                X_df\n",
    "                                                , y_df\n",
    "                                                , test_size=test_split\n",
    "                                                , random_state=71\n",
    "                                                , stratify=y_df\n",
    "                                            )"
   ]
  },
  {
   "cell_type": "code",
   "execution_count": 92,
   "metadata": {},
   "outputs": [
    {
     "name": "stdout",
     "output_type": "stream",
     "text": [
      "\tX_train.shape (600, 1) - y_train.shape (600,)    \n",
      "\tX_test.shape (200, 1) - y_test.shape (200,)\n",
      "\t-0.029 (0.002) : BayesianRidge\n",
      "\t-0.057 (0.010) : DummyRegressor\n",
      "\t-0.057 (0.010) : ElasticNet\n",
      "\t-0.030 (0.003) : GradientBoostingRegressor\n",
      "\t-0.057 (0.010) : Lasso\n",
      "\t-0.029 (0.002) : LinearRegression\n",
      "\t-0.033 (0.004) : RandomForestRegressor\n",
      "\t-0.029 (0.002) : Ridge\n",
      "\t-0.029 (0.002) : SGDRegressor\n"
     ]
    },
    {
     "data": {
      "text/plain": [
       "0.7440196194482556"
      ]
     },
     "execution_count": 92,
     "metadata": {},
     "output_type": "execute_result"
    }
   ],
   "source": [
    "X_train, X_test, y_train, y_test = train_test_split(\n",
    "    df_regression[[regressor]]\n",
    "    , df_regression[regressor+'_delta']\n",
    "    )\n",
    "\n",
    "scaler = StandardScaler()\n",
    "X_train = scaler.fit_transform(X_train)\n",
    "X_test = scaler.transform(X_test)\n",
    "\n",
    "print(\n",
    "    f'\\tX_train.shape {X_train.shape} - y_train.shape {y_train.shape}\\\n",
    "    \\n\\tX_test.shape {X_test.shape} - y_test.shape {y_test.shape}'\n",
    ")\n",
    "\n",
    "yep = util.train_estimators({}, X_train, y_train)\n",
    "\n",
    "estimator, temp_params = util.init_estimator('LinearRegression')\n",
    "\n",
    "estimator.fit(X_train, y_train)\n",
    "estimator.score(X_test, y_test)\n",
    "\n",
    "# visualize estimator performance\n",
    "sns.set(rc={'figure.figsize':(11,8)})\n",
    "ax = sns.scatterplot(x=y_test, y=y_pred)\n",
    "ax.set(xlabel='True', ylabel='Predicted')\n",
    "plt.show()"
   ]
  },
  {
   "cell_type": "code",
   "execution_count": 77,
   "metadata": {},
   "outputs": [],
   "source": [
    "# scale X data\n",
    "scaler = StandardScaler()\n",
    "X_train = scaler.fit_transform(X_train)\n",
    "X_test = scaler.transform(X_test)"
   ]
  },
  {
   "cell_type": "code",
   "execution_count": 78,
   "metadata": {},
   "outputs": [
    {
     "name": "stdout",
     "output_type": "stream",
     "text": [
      "\n",
      "    Regressor: accuracy\n",
      "        0.84562 mean\n",
      "        0.0688 std\n",
      "    Regressand: False Labels Ratio\n",
      "        3.325 mean\n",
      "        3.18014 std\n",
      "\n",
      "    Estimator: SVR\n",
      "        -2.5818 : neg_rmse_train\n",
      "        -2.84753 : neg_rmse_test\n",
      "        0.34333 : r2_train\n",
      "        0.19724 : r2_test\n",
      "\n"
     ]
    },
    {
     "data": {
      "image/png": "[encoded data removed]",
      "text/plain": [
       "<Figure size 792x576 with 1 Axes>"
      ]
     },
     "metadata": {},
     "output_type": "display_data"
    }
   ],
   "source": [
    "# init estimator, set best params\n",
    "estimator, temp_params = util.init_estimator(estimator_name)\n",
    "estimator.set_params(**best_params)\n",
    "\n",
    "# train estimator\n",
    "estimator.fit(X_train, y_train)\n",
    "y_train_pred = estimator.predict(X_train)\n",
    "y_pred = estimator.predict(X_test)\n",
    "\n",
    "print(f'''\n",
    "    Regressor: {regressor}\n",
    "        {round(df_regression[regressor].mean(), 5)} mean\n",
    "        {round(df_regression[regressor].std(), 5)} std\n",
    "    Regressand: False Labels Ratio\n",
    "        {round(df_regression['ratio'].mean(), 5)} mean\n",
    "        {round(df_regression['ratio'].std(), 5)} std\n",
    "\n",
    "    Estimator: {estimator_name}\n",
    "        {round(df_regr_results.iloc[index]['neg_rmse_train'], 5)} : neg_rmse_train\n",
    "        {round(df_regr_results.iloc[index]['neg_rmse_test'], 5)} : neg_rmse_test\n",
    "        {round(df_regr_results.iloc[index]['r2_train'], 5)} : r2_train\n",
    "        {round(df_regr_results.iloc[index]['r2_test'], 5)} : r2_test\n",
    "''')\n",
    "\n",
    "# visualize estimator performance\n",
    "sns.set(rc={'figure.figsize':(11,8)})\n",
    "ax = sns.scatterplot(x=y_test, y=y_pred)\n",
    "ax.set(xlabel='True false labels ratio', ylabel='Predicted false labels ratio')\n",
    "plt.show()"
   ]
  }
 ],
 "metadata": {
  "interpreter": {
   "hash": "c041ee5eca0bebec98353fb08f3f656fe2677ac141976eeebd4959b2f854b27b"
  },
  "kernelspec": {
   "display_name": "Python 3.8.12 ('false-labels')",
   "language": "python",
   "name": "python3"
  },
  "language_info": {
   "codemirror_mode": {
    "name": "ipython",
    "version": 3
   },
   "file_extension": ".py",
   "mimetype": "text/x-python",
   "name": "python",
   "nbconvert_exporter": "python",
   "pygments_lexer": "ipython3",
   "version": "3.8.12"
  },
  "orig_nbformat": 4
 },
 "nbformat": 4,
 "nbformat_minor": 2
}
