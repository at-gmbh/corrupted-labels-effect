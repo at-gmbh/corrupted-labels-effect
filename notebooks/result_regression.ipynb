{
 "cells": [
  {
   "cell_type": "code",
   "execution_count": 1,
   "metadata": {},
   "outputs": [],
   "source": [
    "# imports\n",
    "import json\n",
    "import matplotlib.pyplot as plt\n",
    "import numpy as np\n",
    "import os\n",
    "import pandas as pd\n",
    "from pathlib import Path\n",
    "import re\n",
    "import seaborn as sns\n",
    "import time\n",
    "\n",
    "from scipy import stats\n",
    "from sklearn.dummy import DummyRegressor\n",
    "from sklearn.ensemble import RandomForestRegressor, GradientBoostingRegressor\n",
    "from sklearn.linear_model import LinearRegression, Lasso, ElasticNet, Ridge\n",
    "from sklearn.model_selection import train_test_split, GridSearchCV, RandomizedSearchCV\n",
    "from sklearn.preprocessing import StandardScaler\n",
    "from sklearn.svm import SVR"
   ]
  },
  {
   "cell_type": "code",
   "execution_count": 2,
   "metadata": {},
   "outputs": [],
   "source": [
    "# initialize logging\n",
    "eval_log_path = Path('../logs/result_log')\n",
    "if not os.path.exists(eval_log_path):\n",
    "    os.mkdir(eval_log_path)"
   ]
  },
  {
   "cell_type": "code",
   "execution_count": 3,
   "metadata": {},
   "outputs": [],
   "source": [
    "# -- ARCHIVED --\n",
    "# upload / download models and logs to tensorboard\n",
    "\n",
    "# copy relevant model metrics into seperate folder and upload to tensorboard dev\n",
    "# data_filter = 'test' # 'train', 'test' or 'validation'\n",
    "# model_filter = 'resnet'# 'basic' or 'resnet'\n",
    "# log_path = '../logs/scalars'\n",
    "# upload_path = '../tensorboard_upload/'\n",
    "# os.mkdir(upload_path)\n",
    "\n",
    "# for (dirpath, dirnames, filenames) in os.walk(log_path):\n",
    "#     # filter dirs\n",
    "#     if data_filter in dirpath and model_filter in dirpath:\n",
    "\n",
    "#         from_directory = dirpath\n",
    "#         to_directory = upload_path + dirpath[16:]\n",
    "\n",
    "#         # copy dir trees\n",
    "#         shutil.copytree(from_directory, to_directory)\n",
    "\n",
    "# # TODO: run in project root for upload\n",
    "# print(f'tensorboard dev upload --logdir=./tensorboard_upload/ --name FLE_{model_filter}_{data_filter}')\n",
    "\n",
    "# # remove copied dir trees\n",
    "# shutil.rmtree(upload_path)\n",
    "\n",
    "# # TODO: set tensorboard dev ID\n",
    "# experiment_ids = ['0m4NvD5jTxmSw3hr8SeJww', 'uLYWP18zQ1eMtDBiLHLHrg'] # [resnet, basic]\n",
    "# all_dfs = []\n",
    "\n",
    "# # download experiments\n",
    "# for ind, id in enumerate(experiment_ids):\n",
    "#     experiment = tb.data.experimental.ExperimentFromDev(id)\n",
    "#     df_temp = experiment.get_scalars()\n",
    "    \n",
    "#     print(f'{ind}: {df_temp.shape}')\n",
    "#     all_dfs.append(df_temp)\n",
    "\n",
    "# # combine experiments into single dataframe\n",
    "# df = all_dfs[0]\n",
    "\n",
    "# if len(all_dfs) > 1:\n",
    "#     for new_df in all_dfs[1:]:\n",
    "#         df = pd.concat([df, new_df])\n",
    "\n",
    "# print(df.shape)\n",
    "# df.head()"
   ]
  },
  {
   "cell_type": "code",
   "execution_count": 5,
   "metadata": {},
   "outputs": [
    {
     "name": "stdout",
     "output_type": "stream",
     "text": [
      "800 classification reports found - df.shape (5600, 6)\n"
     ]
    },
    {
     "data": {
      "text/html": [
       "<div>\n",
       "<style scoped>\n",
       "    .dataframe tbody tr th:only-of-type {\n",
       "        vertical-align: middle;\n",
       "    }\n",
       "\n",
       "    .dataframe tbody tr th {\n",
       "        vertical-align: top;\n",
       "    }\n",
       "\n",
       "    .dataframe thead th {\n",
       "        text-align: right;\n",
       "    }\n",
       "</style>\n",
       "<table border=\"1\" class=\"dataframe\">\n",
       "  <thead>\n",
       "    <tr style=\"text-align: right;\">\n",
       "      <th></th>\n",
       "      <th>run</th>\n",
       "      <th>model</th>\n",
       "      <th>ratio</th>\n",
       "      <th>classes</th>\n",
       "      <th>metric</th>\n",
       "      <th>value</th>\n",
       "    </tr>\n",
       "  </thead>\n",
       "  <tbody>\n",
       "    <tr>\n",
       "      <th>0</th>\n",
       "      <td>basic_00000r_14c_20220413-1643</td>\n",
       "      <td>basic</td>\n",
       "      <td>0.0</td>\n",
       "      <td>14</td>\n",
       "      <td>accuracy</td>\n",
       "      <td>0.844503</td>\n",
       "    </tr>\n",
       "    <tr>\n",
       "      <th>1</th>\n",
       "      <td>basic_00000r_14c_20220413-1643</td>\n",
       "      <td>basic</td>\n",
       "      <td>0.0</td>\n",
       "      <td>14</td>\n",
       "      <td>macro avg precision</td>\n",
       "      <td>0.818496</td>\n",
       "    </tr>\n",
       "    <tr>\n",
       "      <th>2</th>\n",
       "      <td>basic_00000r_14c_20220413-1643</td>\n",
       "      <td>basic</td>\n",
       "      <td>0.0</td>\n",
       "      <td>14</td>\n",
       "      <td>macro avg recall</td>\n",
       "      <td>0.805868</td>\n",
       "    </tr>\n",
       "    <tr>\n",
       "      <th>3</th>\n",
       "      <td>basic_00000r_14c_20220413-1643</td>\n",
       "      <td>basic</td>\n",
       "      <td>0.0</td>\n",
       "      <td>14</td>\n",
       "      <td>macro avg f1-score</td>\n",
       "      <td>0.807963</td>\n",
       "    </tr>\n",
       "    <tr>\n",
       "      <th>4</th>\n",
       "      <td>basic_00000r_14c_20220413-1643</td>\n",
       "      <td>basic</td>\n",
       "      <td>0.0</td>\n",
       "      <td>14</td>\n",
       "      <td>weighted avg precision</td>\n",
       "      <td>0.853091</td>\n",
       "    </tr>\n",
       "  </tbody>\n",
       "</table>\n",
       "</div>"
      ],
      "text/plain": [
       "                              run  model  ratio classes  \\\n",
       "0  basic_00000r_14c_20220413-1643  basic    0.0      14   \n",
       "1  basic_00000r_14c_20220413-1643  basic    0.0      14   \n",
       "2  basic_00000r_14c_20220413-1643  basic    0.0      14   \n",
       "3  basic_00000r_14c_20220413-1643  basic    0.0      14   \n",
       "4  basic_00000r_14c_20220413-1643  basic    0.0      14   \n",
       "\n",
       "                   metric     value  \n",
       "0                accuracy  0.844503  \n",
       "1     macro avg precision  0.818496  \n",
       "2        macro avg recall  0.805868  \n",
       "3      macro avg f1-score  0.807963  \n",
       "4  weighted avg precision  0.853091  "
      ]
     },
     "execution_count": 5,
     "metadata": {},
     "output_type": "execute_result"
    }
   ],
   "source": [
    "# define path and file filter\n",
    "report_log_path = '../logs/class_report'\n",
    "filter = 'class_report_19epoch.json'\n",
    "\n",
    "# define metrics to be extracted as list\n",
    "logs = [['accuracy']\n",
    "        , ['macro avg', 'precision']\n",
    "        , ['macro avg', 'recall']\n",
    "        , ['macro avg', 'f1-score']\n",
    "        , ['weighted avg', 'precision']\n",
    "        , ['weighted avg', 'recall']\n",
    "        , ['weighted avg', 'f1-score']\n",
    "]\n",
    "\n",
    "# init dataframe\n",
    "df_headers = ['run', 'model', 'ratio', 'classes', 'metric', 'value']\n",
    "df = pd.DataFrame(columns=df_headers)\n",
    "\n",
    "# iter through logs and get metrics from classification report jsons\n",
    "counter = 0\n",
    "for (dirpath, dirnames, filenames) in os.walk(report_log_path):\n",
    "\n",
    "    if filter in filenames:\n",
    "        counter += 1\n",
    "\n",
    "        file_path = dirpath+'/'+filter\n",
    "        class_report = json.load(open(file_path))\n",
    "\n",
    "        for log in logs:\n",
    "\n",
    "            run = dirpath.split('\\\\', 1)[-1].replace('\\\\', '_')\n",
    "            model = re.search('(^[a-z]{5,6})_', run).group(1)\n",
    "            ratio = float(re.search('(\\d{5})r', run).group(1)) / 100\n",
    "            classes = re.search('(\\d{1,2})c', run).group(1)\n",
    "            \n",
    "            if len(log) == 1:\n",
    "                metric = log[0]\n",
    "                value = class_report[log[0]]\n",
    "            elif len(log) == 2:\n",
    "                metric = log[0] + ' ' + log[1]\n",
    "                value = class_report[log[0]][log[1]]\n",
    "            \n",
    "            row = [\n",
    "                str(run),\n",
    "                str(model),\n",
    "                float(ratio),\n",
    "                str(classes),\n",
    "                str(metric),\n",
    "                float(value)\n",
    "            ]\n",
    "\n",
    "            df_len = len(df)\n",
    "            df.loc[df_len] = row\n",
    "\n",
    "print(f'{counter} classification reports found - df.shape {df.shape}')\n",
    "df.head()"
   ]
  },
  {
   "cell_type": "code",
   "execution_count": 31,
   "metadata": {},
   "outputs": [
    {
     "data": {
      "text/plain": [
       "array(['accuracy', 'macro avg precision', 'macro avg recall',\n",
       "       'macro avg f1-score', 'weighted avg precision',\n",
       "       'weighted avg recall', 'weighted avg f1-score'], dtype=object)"
      ]
     },
     "execution_count": 31,
     "metadata": {},
     "output_type": "execute_result"
    }
   ],
   "source": [
    "df['metric'].unique()"
   ]
  },
  {
   "cell_type": "code",
   "execution_count": 32,
   "metadata": {},
   "outputs": [
    {
     "data": {
      "text/html": [
       "<div>\n",
       "<style scoped>\n",
       "    .dataframe tbody tr th:only-of-type {\n",
       "        vertical-align: middle;\n",
       "    }\n",
       "\n",
       "    .dataframe tbody tr th {\n",
       "        vertical-align: top;\n",
       "    }\n",
       "\n",
       "    .dataframe thead th {\n",
       "        text-align: right;\n",
       "    }\n",
       "</style>\n",
       "<table border=\"1\" class=\"dataframe\">\n",
       "  <thead>\n",
       "    <tr style=\"text-align: right;\">\n",
       "      <th></th>\n",
       "      <th>model</th>\n",
       "      <th>ratio</th>\n",
       "      <th>classes</th>\n",
       "      <th>metric</th>\n",
       "      <th>run</th>\n",
       "    </tr>\n",
       "  </thead>\n",
       "  <tbody>\n",
       "  </tbody>\n",
       "</table>\n",
       "</div>"
      ],
      "text/plain": [
       "Empty DataFrame\n",
       "Columns: [model, ratio, classes, metric, run]\n",
       "Index: []"
      ]
     },
     "execution_count": 32,
     "metadata": {},
     "output_type": "execute_result"
    }
   ],
   "source": [
    "# check wich training setups have less than 20 runs\n",
    "df_runs = df.groupby(['model', 'ratio', 'classes', 'metric']).count().reset_index()\n",
    "df_runs = df_runs.drop('value', axis=1).query('metric == \"accuracy\"')\n",
    "df_runs.query('run < 20').sort_values(by=['model', 'ratio', 'classes'], axis=0)"
   ]
  },
  {
   "cell_type": "markdown",
   "metadata": {},
   "source": [
    "--------------\n",
    "\n",
    "## regression"
   ]
  },
  {
   "cell_type": "code",
   "execution_count": 52,
   "metadata": {},
   "outputs": [],
   "source": [
    "# TODO: set regression data parameters\n",
    "regressand = 'accuracy' # regressand to use\n",
    "cnn = None # model to filter for ('resnet', 'basic'), use None for all\n",
    "classes = None # classification task to filter for (4 or 14), use None for all\n",
    "\n",
    "use_delta = False # use regressand delta to 0 ratio model for regression\n",
    "use_aggr = True # use aggregated data for each model + classes + ratio + metric\n",
    "\n",
    "# TODO: set data preparation parameters\n",
    "use_scaling = False # use scaling for regression\n",
    "zscore_threshold = 3 # zscore threshold for removing outlier based on regressand\n",
    "\n",
    "# file name depending on regression data parameters\n",
    "file_name = '_regr_params.json'\n",
    "if use_delta: file_name = '_delta' + file_name\n",
    "file_name = regressand + file_name\n",
    "if cnn: file_name = cnn + 'CNN_' + file_name\n",
    "if classes: file_name = str(classes) + 'classes_' + file_name\n",
    "\n",
    "file_name = file_name.replace(' ', '_')"
   ]
  },
  {
   "cell_type": "code",
   "execution_count": 53,
   "metadata": {},
   "outputs": [
    {
     "ename": "KeyError",
     "evalue": "\"['run'] not found in axis\"",
     "output_type": "error",
     "traceback": [
      "\u001b[1;31m---------------------------------------------------------------------------\u001b[0m",
      "\u001b[1;31mKeyError\u001b[0m                                  Traceback (most recent call last)",
      "\u001b[1;32mc:\\Users\\daniel.czwalinna\\Documents\\GitLab\\false-labels-effect\\notebooks\\result_regression.ipynb Cell 9'\u001b[0m in \u001b[0;36m<module>\u001b[1;34m\u001b[0m\n\u001b[0;32m     <a href='vscode-notebook-cell:/c%3A/Users/daniel.czwalinna/Documents/GitLab/false-labels-effect/notebooks/result_regression.ipynb#ch0000008?line=12'>13</a>\u001b[0m df_tmp \u001b[39m=\u001b[39m df\u001b[39m.\u001b[39mgroupby([\u001b[39m'\u001b[39m\u001b[39mmodel\u001b[39m\u001b[39m'\u001b[39m, \u001b[39m'\u001b[39m\u001b[39mclasses\u001b[39m\u001b[39m'\u001b[39m, \u001b[39m'\u001b[39m\u001b[39mratio\u001b[39m\u001b[39m'\u001b[39m, \u001b[39m'\u001b[39m\u001b[39mmetric\u001b[39m\u001b[39m'\u001b[39m])\u001b[39m.\u001b[39mmean()\u001b[39m.\u001b[39mreset_index()\n\u001b[0;32m     <a href='vscode-notebook-cell:/c%3A/Users/daniel.czwalinna/Documents/GitLab/false-labels-effect/notebooks/result_regression.ipynb#ch0000008?line=13'>14</a>\u001b[0m df_regression[\u001b[39mf\u001b[39m\u001b[39m'\u001b[39m\u001b[39m{\u001b[39;00mregressand\u001b[39m}\u001b[39;00m\u001b[39m_delta\u001b[39m\u001b[39m'\u001b[39m] \u001b[39m=\u001b[39m df_regression\u001b[39m.\u001b[39mapply(\u001b[39mlambda\u001b[39;00m row:\n\u001b[0;32m     <a href='vscode-notebook-cell:/c%3A/Users/daniel.czwalinna/Documents/GitLab/false-labels-effect/notebooks/result_regression.ipynb#ch0000008?line=14'>15</a>\u001b[0m     row[regressand] \u001b[39m-\u001b[39m df_tmp\u001b[39m.\u001b[39mquery(\u001b[39mf\u001b[39m\u001b[39m'\u001b[39m\u001b[39mmodel==\u001b[39m\u001b[39m\"\u001b[39m\u001b[39m{\u001b[39;00mrow\u001b[39m.\u001b[39mmodel\u001b[39m}\u001b[39;00m\u001b[39m\"\u001b[39m\u001b[39m & classes==\u001b[39m\u001b[39m\"\u001b[39m\u001b[39m{\u001b[39;00mrow\u001b[39m.\u001b[39mclasses\u001b[39m}\u001b[39;00m\u001b[39m\"\u001b[39m\u001b[39m & ratio==0.0 & metric==\u001b[39m\u001b[39m\"\u001b[39m\u001b[39m{\u001b[39;00mrow\u001b[39m.\u001b[39mmetric\u001b[39m}\u001b[39;00m\u001b[39m\"\u001b[39m\u001b[39m'\u001b[39m)\u001b[39m.\u001b[39miloc[\u001b[39m0\u001b[39m][\u001b[39m'\u001b[39m\u001b[39mvalue\u001b[39m\u001b[39m'\u001b[39m], axis\u001b[39m=\u001b[39m\u001b[39m1\u001b[39m\n\u001b[0;32m     <a href='vscode-notebook-cell:/c%3A/Users/daniel.czwalinna/Documents/GitLab/false-labels-effect/notebooks/result_regression.ipynb#ch0000008?line=15'>16</a>\u001b[0m )\n\u001b[1;32m---> <a href='vscode-notebook-cell:/c%3A/Users/daniel.czwalinna/Documents/GitLab/false-labels-effect/notebooks/result_regression.ipynb#ch0000008?line=17'>18</a>\u001b[0m df_regression\u001b[39m.\u001b[39;49mdrop([\u001b[39m'\u001b[39;49m\u001b[39mrun\u001b[39;49m\u001b[39m'\u001b[39;49m, \u001b[39m'\u001b[39;49m\u001b[39mmetric\u001b[39;49m\u001b[39m'\u001b[39;49m], axis\u001b[39m=\u001b[39;49m\u001b[39m1\u001b[39;49m, inplace\u001b[39m=\u001b[39;49m\u001b[39mTrue\u001b[39;49;00m)\n\u001b[0;32m     <a href='vscode-notebook-cell:/c%3A/Users/daniel.czwalinna/Documents/GitLab/false-labels-effect/notebooks/result_regression.ipynb#ch0000008?line=19'>20</a>\u001b[0m df_regression\u001b[39m.\u001b[39mreset_index(inplace\u001b[39m=\u001b[39m\u001b[39mTrue\u001b[39;00m, drop\u001b[39m=\u001b[39m\u001b[39mTrue\u001b[39;00m)\n\u001b[0;32m     <a href='vscode-notebook-cell:/c%3A/Users/daniel.czwalinna/Documents/GitLab/false-labels-effect/notebooks/result_regression.ipynb#ch0000008?line=20'>21</a>\u001b[0m \u001b[39mprint\u001b[39m(df_regression\u001b[39m.\u001b[39mshape)\n",
      "File \u001b[1;32mc:\\Users\\daniel.czwalinna\\Anaconda3\\envs\\false-labels\\lib\\site-packages\\pandas\\util\\_decorators.py:311\u001b[0m, in \u001b[0;36mdeprecate_nonkeyword_arguments.<locals>.decorate.<locals>.wrapper\u001b[1;34m(*args, **kwargs)\u001b[0m\n\u001b[0;32m    <a href='file:///c%3A/Users/daniel.czwalinna/Anaconda3/envs/false-labels/lib/site-packages/pandas/util/_decorators.py?line=304'>305</a>\u001b[0m \u001b[39mif\u001b[39;00m \u001b[39mlen\u001b[39m(args) \u001b[39m>\u001b[39m num_allow_args:\n\u001b[0;32m    <a href='file:///c%3A/Users/daniel.czwalinna/Anaconda3/envs/false-labels/lib/site-packages/pandas/util/_decorators.py?line=305'>306</a>\u001b[0m     warnings\u001b[39m.\u001b[39mwarn(\n\u001b[0;32m    <a href='file:///c%3A/Users/daniel.czwalinna/Anaconda3/envs/false-labels/lib/site-packages/pandas/util/_decorators.py?line=306'>307</a>\u001b[0m         msg\u001b[39m.\u001b[39mformat(arguments\u001b[39m=\u001b[39marguments),\n\u001b[0;32m    <a href='file:///c%3A/Users/daniel.czwalinna/Anaconda3/envs/false-labels/lib/site-packages/pandas/util/_decorators.py?line=307'>308</a>\u001b[0m         \u001b[39mFutureWarning\u001b[39;00m,\n\u001b[0;32m    <a href='file:///c%3A/Users/daniel.czwalinna/Anaconda3/envs/false-labels/lib/site-packages/pandas/util/_decorators.py?line=308'>309</a>\u001b[0m         stacklevel\u001b[39m=\u001b[39mstacklevel,\n\u001b[0;32m    <a href='file:///c%3A/Users/daniel.czwalinna/Anaconda3/envs/false-labels/lib/site-packages/pandas/util/_decorators.py?line=309'>310</a>\u001b[0m     )\n\u001b[1;32m--> <a href='file:///c%3A/Users/daniel.czwalinna/Anaconda3/envs/false-labels/lib/site-packages/pandas/util/_decorators.py?line=310'>311</a>\u001b[0m \u001b[39mreturn\u001b[39;00m func(\u001b[39m*\u001b[39;49margs, \u001b[39m*\u001b[39;49m\u001b[39m*\u001b[39;49mkwargs)\n",
      "File \u001b[1;32mc:\\Users\\daniel.czwalinna\\Anaconda3\\envs\\false-labels\\lib\\site-packages\\pandas\\core\\frame.py:4948\u001b[0m, in \u001b[0;36mDataFrame.drop\u001b[1;34m(self, labels, axis, index, columns, level, inplace, errors)\u001b[0m\n\u001b[0;32m   <a href='file:///c%3A/Users/daniel.czwalinna/Anaconda3/envs/false-labels/lib/site-packages/pandas/core/frame.py?line=4799'>4800</a>\u001b[0m \u001b[39m@deprecate_nonkeyword_arguments\u001b[39m(version\u001b[39m=\u001b[39m\u001b[39mNone\u001b[39;00m, allowed_args\u001b[39m=\u001b[39m[\u001b[39m\"\u001b[39m\u001b[39mself\u001b[39m\u001b[39m\"\u001b[39m, \u001b[39m\"\u001b[39m\u001b[39mlabels\u001b[39m\u001b[39m\"\u001b[39m])\n\u001b[0;32m   <a href='file:///c%3A/Users/daniel.czwalinna/Anaconda3/envs/false-labels/lib/site-packages/pandas/core/frame.py?line=4800'>4801</a>\u001b[0m \u001b[39mdef\u001b[39;00m \u001b[39mdrop\u001b[39m(\n\u001b[0;32m   <a href='file:///c%3A/Users/daniel.czwalinna/Anaconda3/envs/false-labels/lib/site-packages/pandas/core/frame.py?line=4801'>4802</a>\u001b[0m     \u001b[39mself\u001b[39m,\n\u001b[1;32m   (...)\u001b[0m\n\u001b[0;32m   <a href='file:///c%3A/Users/daniel.czwalinna/Anaconda3/envs/false-labels/lib/site-packages/pandas/core/frame.py?line=4808'>4809</a>\u001b[0m     errors: \u001b[39mstr\u001b[39m \u001b[39m=\u001b[39m \u001b[39m\"\u001b[39m\u001b[39mraise\u001b[39m\u001b[39m\"\u001b[39m,\n\u001b[0;32m   <a href='file:///c%3A/Users/daniel.czwalinna/Anaconda3/envs/false-labels/lib/site-packages/pandas/core/frame.py?line=4809'>4810</a>\u001b[0m ):\n\u001b[0;32m   <a href='file:///c%3A/Users/daniel.czwalinna/Anaconda3/envs/false-labels/lib/site-packages/pandas/core/frame.py?line=4810'>4811</a>\u001b[0m     \u001b[39m\"\"\"\u001b[39;00m\n\u001b[0;32m   <a href='file:///c%3A/Users/daniel.czwalinna/Anaconda3/envs/false-labels/lib/site-packages/pandas/core/frame.py?line=4811'>4812</a>\u001b[0m \u001b[39m    Drop specified labels from rows or columns.\u001b[39;00m\n\u001b[0;32m   <a href='file:///c%3A/Users/daniel.czwalinna/Anaconda3/envs/false-labels/lib/site-packages/pandas/core/frame.py?line=4812'>4813</a>\u001b[0m \n\u001b[1;32m   (...)\u001b[0m\n\u001b[0;32m   <a href='file:///c%3A/Users/daniel.czwalinna/Anaconda3/envs/false-labels/lib/site-packages/pandas/core/frame.py?line=4945'>4946</a>\u001b[0m \u001b[39m            weight  1.0     0.8\u001b[39;00m\n\u001b[0;32m   <a href='file:///c%3A/Users/daniel.czwalinna/Anaconda3/envs/false-labels/lib/site-packages/pandas/core/frame.py?line=4946'>4947</a>\u001b[0m \u001b[39m    \"\"\"\u001b[39;00m\n\u001b[1;32m-> <a href='file:///c%3A/Users/daniel.czwalinna/Anaconda3/envs/false-labels/lib/site-packages/pandas/core/frame.py?line=4947'>4948</a>\u001b[0m     \u001b[39mreturn\u001b[39;00m \u001b[39msuper\u001b[39;49m()\u001b[39m.\u001b[39;49mdrop(\n\u001b[0;32m   <a href='file:///c%3A/Users/daniel.czwalinna/Anaconda3/envs/false-labels/lib/site-packages/pandas/core/frame.py?line=4948'>4949</a>\u001b[0m         labels\u001b[39m=\u001b[39;49mlabels,\n\u001b[0;32m   <a href='file:///c%3A/Users/daniel.czwalinna/Anaconda3/envs/false-labels/lib/site-packages/pandas/core/frame.py?line=4949'>4950</a>\u001b[0m         axis\u001b[39m=\u001b[39;49maxis,\n\u001b[0;32m   <a href='file:///c%3A/Users/daniel.czwalinna/Anaconda3/envs/false-labels/lib/site-packages/pandas/core/frame.py?line=4950'>4951</a>\u001b[0m         index\u001b[39m=\u001b[39;49mindex,\n\u001b[0;32m   <a href='file:///c%3A/Users/daniel.czwalinna/Anaconda3/envs/false-labels/lib/site-packages/pandas/core/frame.py?line=4951'>4952</a>\u001b[0m         columns\u001b[39m=\u001b[39;49mcolumns,\n\u001b[0;32m   <a href='file:///c%3A/Users/daniel.czwalinna/Anaconda3/envs/false-labels/lib/site-packages/pandas/core/frame.py?line=4952'>4953</a>\u001b[0m         level\u001b[39m=\u001b[39;49mlevel,\n\u001b[0;32m   <a href='file:///c%3A/Users/daniel.czwalinna/Anaconda3/envs/false-labels/lib/site-packages/pandas/core/frame.py?line=4953'>4954</a>\u001b[0m         inplace\u001b[39m=\u001b[39;49minplace,\n\u001b[0;32m   <a href='file:///c%3A/Users/daniel.czwalinna/Anaconda3/envs/false-labels/lib/site-packages/pandas/core/frame.py?line=4954'>4955</a>\u001b[0m         errors\u001b[39m=\u001b[39;49merrors,\n\u001b[0;32m   <a href='file:///c%3A/Users/daniel.czwalinna/Anaconda3/envs/false-labels/lib/site-packages/pandas/core/frame.py?line=4955'>4956</a>\u001b[0m     )\n",
      "File \u001b[1;32mc:\\Users\\daniel.czwalinna\\Anaconda3\\envs\\false-labels\\lib\\site-packages\\pandas\\core\\generic.py:4279\u001b[0m, in \u001b[0;36mNDFrame.drop\u001b[1;34m(self, labels, axis, index, columns, level, inplace, errors)\u001b[0m\n\u001b[0;32m   <a href='file:///c%3A/Users/daniel.czwalinna/Anaconda3/envs/false-labels/lib/site-packages/pandas/core/generic.py?line=4276'>4277</a>\u001b[0m \u001b[39mfor\u001b[39;00m axis, labels \u001b[39min\u001b[39;00m axes\u001b[39m.\u001b[39mitems():\n\u001b[0;32m   <a href='file:///c%3A/Users/daniel.czwalinna/Anaconda3/envs/false-labels/lib/site-packages/pandas/core/generic.py?line=4277'>4278</a>\u001b[0m     \u001b[39mif\u001b[39;00m labels \u001b[39mis\u001b[39;00m \u001b[39mnot\u001b[39;00m \u001b[39mNone\u001b[39;00m:\n\u001b[1;32m-> <a href='file:///c%3A/Users/daniel.czwalinna/Anaconda3/envs/false-labels/lib/site-packages/pandas/core/generic.py?line=4278'>4279</a>\u001b[0m         obj \u001b[39m=\u001b[39m obj\u001b[39m.\u001b[39;49m_drop_axis(labels, axis, level\u001b[39m=\u001b[39;49mlevel, errors\u001b[39m=\u001b[39;49merrors)\n\u001b[0;32m   <a href='file:///c%3A/Users/daniel.czwalinna/Anaconda3/envs/false-labels/lib/site-packages/pandas/core/generic.py?line=4280'>4281</a>\u001b[0m \u001b[39mif\u001b[39;00m inplace:\n\u001b[0;32m   <a href='file:///c%3A/Users/daniel.czwalinna/Anaconda3/envs/false-labels/lib/site-packages/pandas/core/generic.py?line=4281'>4282</a>\u001b[0m     \u001b[39mself\u001b[39m\u001b[39m.\u001b[39m_update_inplace(obj)\n",
      "File \u001b[1;32mc:\\Users\\daniel.czwalinna\\Anaconda3\\envs\\false-labels\\lib\\site-packages\\pandas\\core\\generic.py:4323\u001b[0m, in \u001b[0;36mNDFrame._drop_axis\u001b[1;34m(self, labels, axis, level, errors, consolidate, only_slice)\u001b[0m\n\u001b[0;32m   <a href='file:///c%3A/Users/daniel.czwalinna/Anaconda3/envs/false-labels/lib/site-packages/pandas/core/generic.py?line=4320'>4321</a>\u001b[0m         new_axis \u001b[39m=\u001b[39m axis\u001b[39m.\u001b[39mdrop(labels, level\u001b[39m=\u001b[39mlevel, errors\u001b[39m=\u001b[39merrors)\n\u001b[0;32m   <a href='file:///c%3A/Users/daniel.czwalinna/Anaconda3/envs/false-labels/lib/site-packages/pandas/core/generic.py?line=4321'>4322</a>\u001b[0m     \u001b[39melse\u001b[39;00m:\n\u001b[1;32m-> <a href='file:///c%3A/Users/daniel.czwalinna/Anaconda3/envs/false-labels/lib/site-packages/pandas/core/generic.py?line=4322'>4323</a>\u001b[0m         new_axis \u001b[39m=\u001b[39m axis\u001b[39m.\u001b[39;49mdrop(labels, errors\u001b[39m=\u001b[39;49merrors)\n\u001b[0;32m   <a href='file:///c%3A/Users/daniel.czwalinna/Anaconda3/envs/false-labels/lib/site-packages/pandas/core/generic.py?line=4323'>4324</a>\u001b[0m     indexer \u001b[39m=\u001b[39m axis\u001b[39m.\u001b[39mget_indexer(new_axis)\n\u001b[0;32m   <a href='file:///c%3A/Users/daniel.czwalinna/Anaconda3/envs/false-labels/lib/site-packages/pandas/core/generic.py?line=4325'>4326</a>\u001b[0m \u001b[39m# Case for non-unique axis\u001b[39;00m\n\u001b[0;32m   <a href='file:///c%3A/Users/daniel.czwalinna/Anaconda3/envs/false-labels/lib/site-packages/pandas/core/generic.py?line=4326'>4327</a>\u001b[0m \u001b[39melse\u001b[39;00m:\n",
      "File \u001b[1;32mc:\\Users\\daniel.czwalinna\\Anaconda3\\envs\\false-labels\\lib\\site-packages\\pandas\\core\\indexes\\base.py:6644\u001b[0m, in \u001b[0;36mIndex.drop\u001b[1;34m(self, labels, errors)\u001b[0m\n\u001b[0;32m   <a href='file:///c%3A/Users/daniel.czwalinna/Anaconda3/envs/false-labels/lib/site-packages/pandas/core/indexes/base.py?line=6641'>6642</a>\u001b[0m \u001b[39mif\u001b[39;00m mask\u001b[39m.\u001b[39many():\n\u001b[0;32m   <a href='file:///c%3A/Users/daniel.czwalinna/Anaconda3/envs/false-labels/lib/site-packages/pandas/core/indexes/base.py?line=6642'>6643</a>\u001b[0m     \u001b[39mif\u001b[39;00m errors \u001b[39m!=\u001b[39m \u001b[39m\"\u001b[39m\u001b[39mignore\u001b[39m\u001b[39m\"\u001b[39m:\n\u001b[1;32m-> <a href='file:///c%3A/Users/daniel.czwalinna/Anaconda3/envs/false-labels/lib/site-packages/pandas/core/indexes/base.py?line=6643'>6644</a>\u001b[0m         \u001b[39mraise\u001b[39;00m \u001b[39mKeyError\u001b[39;00m(\u001b[39mf\u001b[39m\u001b[39m\"\u001b[39m\u001b[39m{\u001b[39;00m\u001b[39mlist\u001b[39m(labels[mask])\u001b[39m}\u001b[39;00m\u001b[39m not found in axis\u001b[39m\u001b[39m\"\u001b[39m)\n\u001b[0;32m   <a href='file:///c%3A/Users/daniel.czwalinna/Anaconda3/envs/false-labels/lib/site-packages/pandas/core/indexes/base.py?line=6644'>6645</a>\u001b[0m     indexer \u001b[39m=\u001b[39m indexer[\u001b[39m~\u001b[39mmask]\n\u001b[0;32m   <a href='file:///c%3A/Users/daniel.czwalinna/Anaconda3/envs/false-labels/lib/site-packages/pandas/core/indexes/base.py?line=6645'>6646</a>\u001b[0m \u001b[39mreturn\u001b[39;00m \u001b[39mself\u001b[39m\u001b[39m.\u001b[39mdelete(indexer)\n",
      "\u001b[1;31mKeyError\u001b[0m: \"['run'] not found in axis\""
     ]
    }
   ],
   "source": [
    "# preprocess dataframe\n",
    "df_regression = df.query(f'metric == \"{regressand}\"')\n",
    "df_regression.drop(['run'], axis=1, inplace=True)\n",
    "df_regression = df_regression.rename(columns={'value': regressand})\n",
    "\n",
    "if cnn:\n",
    "    df_regression = df_regression.query(f'model == \"{cnn}\"')\n",
    "if classes:\n",
    "    df_regression = df_regression.query(f'classes == \"{classes}\"')\n",
    "\n",
    "if use_aggr:\n",
    "    df_regression = df_regression.groupby(['model', 'ratio', 'classes', 'metric']).mean().reset_index()\n",
    "\n",
    "df_tmp = df.groupby(['model', 'classes', 'ratio', 'metric']).mean().reset_index()\n",
    "df_regression[f'{regressand}_delta'] = df_regression.apply(lambda row:\n",
    "    row[regressand] - df_tmp.query(f'model==\"{row.model}\" & classes==\"{row.classes}\" & ratio==0.0 & metric==\"{row.metric}\"').iloc[0]['value'], axis=1\n",
    ")\n",
    "\n",
    "df_regression.drop(['metric'], axis=1, inplace=True)\n",
    "\n",
    "df_regression.reset_index(inplace=True, drop=True)\n",
    "print(df_regression.shape)\n",
    "df_regression.head()"
   ]
  },
  {
   "cell_type": "code",
   "execution_count": 35,
   "metadata": {},
   "outputs": [
    {
     "data": {
      "text/plain": [
       "<seaborn.axisgrid.PairGrid at 0x24f02986af0>"
      ]
     },
     "execution_count": 35,
     "metadata": {},
     "output_type": "execute_result"
    },
    {
     "data": {
      "image/png": "[encoded data removed]",
      "text/plain": [
       "<Figure size 540x540 with 12 Axes>"
      ]
     },
     "metadata": {
      "needs_background": "light"
     },
     "output_type": "display_data"
    }
   ],
   "source": [
    "# sns.pairplot(df_regression[[regressand, f'{regressand}_delta', 'ratio']], diag_kind='kde')"
   ]
  },
  {
   "cell_type": "code",
   "execution_count": 36,
   "metadata": {},
   "outputs": [
    {
     "data": {
      "text/plain": [
       "<AxesSubplot:xlabel='ratio', ylabel='accuracy'>"
      ]
     },
     "execution_count": 36,
     "metadata": {},
     "output_type": "execute_result"
    },
    {
     "data": {
      "image/png": "[encoded data removed]",
      "text/plain": [
       "<Figure size 432x288 with 1 Axes>"
      ]
     },
     "metadata": {
      "needs_background": "light"
     },
     "output_type": "display_data"
    }
   ],
   "source": [
    "# sns.boxplot(x='ratio', y=regressand, data=df_regression)"
   ]
  },
  {
   "cell_type": "code",
   "execution_count": 48,
   "metadata": {},
   "outputs": [
    {
     "name": "stdout",
     "output_type": "stream",
     "text": [
      "4 rows filtered\n"
     ]
    }
   ],
   "source": [
    "# filter outlier of regressand (if data is not aggregated)\n",
    "if not use_aggr:\n",
    "    # create mask based on zscore threshold\n",
    "    mask = np.abs(stats.zscore(df_regression[regressand])) > zscore_threshold\n",
    "    print(f'{mask.sum()} rows filtered')\n",
    "\n",
    "    # apply mask\n",
    "    df_regression[regressand] = df_regression[regressand].mask(mask)\n",
    "\n",
    "    # drop outliers\n",
    "    df_regression.dropna(inplace=True)"
   ]
  },
  {
   "cell_type": "code",
   "execution_count": 38,
   "metadata": {},
   "outputs": [
    {
     "data": {
      "text/html": [
       "<div>\n",
       "<style scoped>\n",
       "    .dataframe tbody tr th:only-of-type {\n",
       "        vertical-align: middle;\n",
       "    }\n",
       "\n",
       "    .dataframe tbody tr th {\n",
       "        vertical-align: top;\n",
       "    }\n",
       "\n",
       "    .dataframe thead th {\n",
       "        text-align: right;\n",
       "    }\n",
       "</style>\n",
       "<table border=\"1\" class=\"dataframe\">\n",
       "  <thead>\n",
       "    <tr style=\"text-align: right;\">\n",
       "      <th></th>\n",
       "      <th>ratio</th>\n",
       "      <th>accuracy</th>\n",
       "      <th>accuracy_delta</th>\n",
       "    </tr>\n",
       "  </thead>\n",
       "  <tbody>\n",
       "    <tr>\n",
       "      <th>count</th>\n",
       "      <td>196.000000</td>\n",
       "      <td>196.000000</td>\n",
       "      <td>196.000000</td>\n",
       "    </tr>\n",
       "    <tr>\n",
       "      <th>mean</th>\n",
       "      <td>3.214286</td>\n",
       "      <td>0.863359</td>\n",
       "      <td>-0.037281</td>\n",
       "    </tr>\n",
       "    <tr>\n",
       "      <th>std</th>\n",
       "      <td>3.116334</td>\n",
       "      <td>0.045092</td>\n",
       "      <td>0.045092</td>\n",
       "    </tr>\n",
       "    <tr>\n",
       "      <th>min</th>\n",
       "      <td>0.000000</td>\n",
       "      <td>0.704443</td>\n",
       "      <td>-0.196197</td>\n",
       "    </tr>\n",
       "    <tr>\n",
       "      <th>25%</th>\n",
       "      <td>0.500000</td>\n",
       "      <td>0.840267</td>\n",
       "      <td>-0.060373</td>\n",
       "    </tr>\n",
       "    <tr>\n",
       "      <th>50%</th>\n",
       "      <td>2.000000</td>\n",
       "      <td>0.876318</td>\n",
       "      <td>-0.024322</td>\n",
       "    </tr>\n",
       "    <tr>\n",
       "      <th>75%</th>\n",
       "      <td>5.000000</td>\n",
       "      <td>0.896555</td>\n",
       "      <td>-0.004085</td>\n",
       "    </tr>\n",
       "    <tr>\n",
       "      <th>max</th>\n",
       "      <td>10.000000</td>\n",
       "      <td>0.931852</td>\n",
       "      <td>0.031212</td>\n",
       "    </tr>\n",
       "  </tbody>\n",
       "</table>\n",
       "</div>"
      ],
      "text/plain": [
       "            ratio    accuracy  accuracy_delta\n",
       "count  196.000000  196.000000      196.000000\n",
       "mean     3.214286    0.863359       -0.037281\n",
       "std      3.116334    0.045092        0.045092\n",
       "min      0.000000    0.704443       -0.196197\n",
       "25%      0.500000    0.840267       -0.060373\n",
       "50%      2.000000    0.876318       -0.024322\n",
       "75%      5.000000    0.896555       -0.004085\n",
       "max     10.000000    0.931852        0.031212"
      ]
     },
     "execution_count": 38,
     "metadata": {},
     "output_type": "execute_result"
    }
   ],
   "source": [
    "df_regression.describe()"
   ]
  },
  {
   "cell_type": "code",
   "execution_count": 39,
   "metadata": {},
   "outputs": [
    {
     "name": "stdout",
     "output_type": "stream",
     "text": [
      "-0.6349 pearsonr, 1.6341179014471866e-23 p-value, Variable: accuracy\n",
      "\n",
      "X_train.shape (166, 1) - y_train.shape (166,)\n",
      "X_test.shape (30, 1) - y_test.shape (30,)\n"
     ]
    },
    {
     "data": {
      "text/plain": [
       "2.00     17\n",
       "3.00     17\n",
       "5.00     17\n",
       "0.50     17\n",
       "4.00     17\n",
       "0.00     17\n",
       "1.00     17\n",
       "0.25     17\n",
       "10.00    15\n",
       "7.50     15\n",
       "Name: ratio, dtype: int64"
      ]
     },
     "execution_count": 39,
     "metadata": {},
     "output_type": "execute_result"
    }
   ],
   "source": [
    "# get independent and dependent variables\n",
    "if use_delta:\n",
    "    X_df = df_regression[[f'{regressand}_delta']]\n",
    "else:\n",
    "    X_df = df_regression[[regressand]]\n",
    "y_df = df_regression['ratio']\n",
    "\n",
    "for column in X_df.columns:\n",
    "    r, p = stats.pearsonr(X_df[column], y_df)\n",
    "    print(f'{round(r, 4)} pearsonr, {p} p-value, Variable: {column}')\n",
    "\n",
    "# split data\n",
    "X_train, X_test, y_train, y_test = train_test_split(\n",
    "                                                X_df\n",
    "                                                , y_df\n",
    "                                                , test_size=0.15\n",
    "                                                , stratify=y_df\n",
    "                                            )\n",
    "\n",
    "# scale X data\n",
    "if use_scaling:\n",
    "    scaler = StandardScaler()\n",
    "    X_train = scaler.fit_transform(X_train)\n",
    "    X_test = scaler.transform(X_test)\n",
    "\n",
    "print(f'\\nX_train.shape {X_train.shape} - y_train.shape {y_train.shape}\\n\\\n",
    "X_test.shape {X_test.shape} - y_test.shape {y_test.shape}')\n",
    "\n",
    "y_train.value_counts()"
   ]
  },
  {
   "cell_type": "code",
   "execution_count": 40,
   "metadata": {},
   "outputs": [],
   "source": [
    "# initialize estimators and hyperparameter params for each estimator\n",
    "regr_dummy = DummyRegressor()\n",
    "regr_dummy_params = {}\n",
    "regr_dummy_params['strategy'] = ['mean', 'median', 'quantile']\n",
    "regr_dummy_params['quantile'] = [0.1, 0.2, 0.3, 0.4, 0.5, 0.6, 0.7, 0.8, 0.9]\n",
    "\n",
    "regr_linear = LinearRegression()\n",
    "regr_linear_params = {}\n",
    "\n",
    "regr_lasso = Lasso()\n",
    "regr_lasso_params = {}\n",
    "regr_lasso_params['max_iter'] = [10000]\n",
    "regr_lasso_params['alpha'] = [1e-5, 1e-4, 1e-3, 1e-2, 1e-1, 1.0, 10.0, 100.0]\n",
    "regr_lasso_params['selection'] = ['random', 'cyclic']\n",
    "\n",
    "regr_elastic = ElasticNet()\n",
    "regr_elastic_params = {}\n",
    "regr_elastic_params['max_iter'] = [10000]\n",
    "regr_elastic_params['alpha'] = [1e-5, 1e-4, 1e-3, 1e-2, 1e-1, 1.0, 10.0, 100.0]\n",
    "regr_elastic_params['l1_ratio'] = np.linspace(0.001, 0.999, 10)\n",
    "regr_elastic_params['selection'] = ['random', 'cyclic']\n",
    "\n",
    "regr_ridge = Ridge()\n",
    "regr_ridge_params = {}\n",
    "regr_ridge_params['max_iter'] = [10000]\n",
    "regr_ridge_params['alpha'] = [1e-5, 1e-4, 1e-3, 1e-2, 1e-1, 1.0, 10.0, 100.0]\n",
    "regr_ridge_params['solver'] = [\n",
    "    'auto', 'svd', 'cholesky', 'lsqr'\n",
    "    , 'sparse_cg', 'sag', 'saga'\n",
    "]\n",
    "\n",
    "regr_svr = SVR()\n",
    "regr_svr_params = {}\n",
    "regr_svr_params['kernel'] = ['linear', 'poly', 'rbf'] # 'sigmoid'\n",
    "regr_svr_params['degree'] = [1, 2, 3]\n",
    "regr_svr_params['gamma'] = [1e-1, 1.0, 10.0]\n",
    "regr_svr_params['coef0'] = [0.0, 0.1, 0.3, 0.8]\n",
    "regr_svr_params['C'] = [1e-1, 1.0, 10.0]\n",
    "# regr_svr_params['epsilon'] = [1e-2, 1e-1, 1.0]\n",
    "\n",
    "regr_randomForest = RandomForestRegressor()\n",
    "regr_randomForest_params = {}\n",
    "regr_randomForest_params['n_estimators'] = [100, 200, 300, 400, 500]\n",
    "regr_randomForest_params['criterion'] = ['squared_error'] # 'absolute_error', 'poisson'\n",
    "regr_randomForest_params['max_depth'] = [1, 2, 3, 4, 5]\n",
    "\n",
    "regr_gradientBoost = GradientBoostingRegressor()\n",
    "regr_gradientBoost_params = {}\n",
    "regr_gradientBoost_params['loss'] = ['squared_error', 'huber']\n",
    "regr_gradientBoost_params['learning_rate'] = [0.1, 0.2, 0.5, 0.7]\n",
    "regr_gradientBoost_params['n_estimators'] = [100, 200, 400]\n",
    "# regr_gradientBoost_params['criterion'] = ['friedman_mse', 'squared_error', 'absolute_error']\n",
    "regr_gradientBoost_params['max_depth'] = [1, 2, 4]\n",
    "regr_gradientBoost_params['alpha'] = [0.1, 0.5, 0.9]\n",
    "regr_gradientBoost_params['warm_start'] = [True, False]\n",
    "\n",
    "models_and_params = [\n",
    "    [regr_dummy, regr_dummy_params]\n",
    "    , [regr_linear, regr_linear_params]\n",
    "    , [regr_lasso, regr_lasso_params]\n",
    "    , [regr_elastic, regr_elastic_params]\n",
    "    , [regr_ridge, regr_ridge_params]\n",
    "    , [regr_svr, regr_svr_params]\n",
    "    , [regr_randomForest, regr_randomForest_params]\n",
    "    , [regr_gradientBoost, regr_gradientBoost_params]\n",
    "]"
   ]
  },
  {
   "cell_type": "code",
   "execution_count": 41,
   "metadata": {},
   "outputs": [
    {
     "name": "stdout",
     "output_type": "stream",
     "text": [
      "--------\n",
      "Fitting 5 folds for each of 27 candidates, totalling 135 fits\n",
      "DummyRegressor - Training time elapsed: 0.137 min - Best score: -0.037\n",
      "--------\n",
      "Fitting 5 folds for each of 1 candidates, totalling 5 fits\n",
      "LinearRegression - Training time elapsed: 0.003 min - Best score: 0.351\n",
      "--------\n",
      "Fitting 5 folds for each of 16 candidates, totalling 80 fits\n",
      "Lasso - Training time elapsed: 0.004 min - Best score: 0.355\n",
      "--------\n",
      "Fitting 5 folds for each of 160 candidates, totalling 800 fits\n",
      "ElasticNet - Training time elapsed: 0.021 min - Best score: 0.359\n",
      "--------\n",
      "Fitting 5 folds for each of 56 candidates, totalling 280 fits\n",
      "Ridge - Training time elapsed: 0.01 min - Best score: 0.358\n",
      "--------\n",
      "Fitting 5 folds for each of 324 candidates, totalling 1620 fits\n",
      "SVR - Training time elapsed: 2.076 min - Best score: 0.386\n",
      "--------\n",
      "Fitting 5 folds for each of 25 candidates, totalling 125 fits\n",
      "RandomForestRegressor - Training time elapsed: 0.903 min - Best score: 0.436\n",
      "--------\n",
      "Fitting 5 folds for each of 432 candidates, totalling 2160 fits\n",
      "GradientBoostingRegressor - Training time elapsed: 9.723 min - Best score: 0.46\n"
     ]
    }
   ],
   "source": [
    "import warnings\n",
    "warnings.filterwarnings(\"ignore\", category=DeprecationWarning)\n",
    "\n",
    "# iterate over models and hyperparameters and train\n",
    "best_params_per_model = {}\n",
    "for model, params in models_and_params:\n",
    "    model_name = f'{str(model)[:-2]}'\n",
    "\n",
    "    # run gridsearch\n",
    "    print('--------')\n",
    "    start = time.time()\n",
    "\n",
    "    gs = GridSearchCV(\n",
    "        model\n",
    "        , params\n",
    "        # , n_iter=2\n",
    "        , n_jobs=-1\n",
    "        , cv=5\n",
    "        , scoring='r2'\n",
    "        , verbose=1\n",
    "    )\n",
    "    gs.fit(X_train, y_train)\n",
    "\n",
    "    end = time.time()\n",
    "    print(\n",
    "        f'{model_name}'\\\n",
    "        f' - Training time elapsed: {round((end - start) / 60, 3)} min'\\\n",
    "        f' - Best score: {round(gs.best_score_, 3)}'\n",
    "    )\n",
    "\n",
    "    # add best params + score per model to dict\n",
    "    best_params_per_model[model_name] = {\n",
    "        'score': gs.best_score_,\n",
    "        'best_params': gs.best_params_\n",
    "    }\n",
    "\n",
    "# save best params per model\n",
    "with open(f'{eval_log_path}/{file_name}', 'w') as f:\n",
    "    json.dump(best_params_per_model, f)"
   ]
  },
  {
   "cell_type": "code",
   "execution_count": null,
   "metadata": {},
   "outputs": [],
   "source": []
  },
  {
   "cell_type": "code",
   "execution_count": 44,
   "metadata": {},
   "outputs": [
    {
     "name": "stdout",
     "output_type": "stream",
     "text": [
      "Scores:\n",
      "-0.036618 - DummyRegressor\n",
      "0.351161 - LinearRegression\n",
      "0.355408 - Lasso\n",
      "0.35872 - ElasticNet\n",
      "0.357937 - Ridge\n",
      "0.386223 - SVR\n",
      "0.436165 - RandomForestRegressor\n",
      "0.459995 - GradientBoostingRegressor\n",
      "--------\n",
      "Best model: GradientBoostingRegressor\n",
      "    0.46 - training score\n",
      "    0.29444 - test score\n"
     ]
    }
   ],
   "source": [
    "# read models with best params\n",
    "with open(f'{eval_log_path}/{file_name}', 'r') as f:\n",
    "    regression_results = json.load(f)\n",
    "\n",
    "# get best score / model\n",
    "best_model = ''\n",
    "best_train_score = 0\n",
    "\n",
    "print('Scores:')\n",
    "for model, results in regression_results.items():\n",
    "    score = results[\"score\"]\n",
    "    print(f'{round(score,6)} - {model}')\n",
    "\n",
    "    if score > best_train_score:\n",
    "        best_train_score = score\n",
    "        best_model = model\n",
    "        best_params = results['best_params']\n",
    "    \n",
    "print(f'--------\\nBest model: {best_model}\\n    {round(best_train_score, 5)} - training score')\n",
    "\n",
    "# transform params for scoring on test data\n",
    "best_params_transform = {}\n",
    "for key, value in best_params.items():\n",
    "    best_params_transform[key] = value\n",
    "\n",
    "# score best model on test data\n",
    "models = {\n",
    "    'DummyRegressor': regr_dummy,\n",
    "    'LinearRegression': regr_linear,\n",
    "    'Lasso': regr_lasso,\n",
    "    'ElasticNet': regr_elastic,\n",
    "    'Ridge': regr_ridge,\n",
    "    'SVR': regr_svr,\n",
    "    'RandomForestRegressor': regr_randomForest,\n",
    "    'GradientBoostingRegressor': regr_gradientBoost\n",
    "}\n",
    "\n",
    "reg = models[best_model].set_params(**best_params_transform)\n",
    "reg.fit(X_train, y_train)\n",
    "test_score = reg.score(X_test, y_test)\n",
    "print(f'    {round(test_score, 5)} - test score')"
   ]
  }
 ],
 "metadata": {
  "interpreter": {
   "hash": "c041ee5eca0bebec98353fb08f3f656fe2677ac141976eeebd4959b2f854b27b"
  },
  "kernelspec": {
   "display_name": "Python 3.8.12 ('false-labels')",
   "language": "python",
   "name": "python3"
  },
  "language_info": {
   "codemirror_mode": {
    "name": "ipython",
    "version": 3
   },
   "file_extension": ".py",
   "mimetype": "text/x-python",
   "name": "python",
   "nbconvert_exporter": "python",
   "pygments_lexer": "ipython3",
   "version": "3.8.12"
  },
  "orig_nbformat": 4
 },
 "nbformat": 4,
 "nbformat_minor": 2
}
