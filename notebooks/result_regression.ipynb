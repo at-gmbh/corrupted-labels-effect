{
 "cells": [
  {
   "cell_type": "code",
   "execution_count": null,
   "metadata": {},
   "outputs": [],
   "source": [
    "# imports\n",
    "import ast\n",
    "import os\n",
    "import sys\n",
    "\n",
    "import matplotlib.pyplot as plt\n",
    "import pandas as pd\n",
    "import seaborn as sns\n",
    "from sklearn.metrics import r2_score\n",
    "from sklearn.model_selection import train_test_split\n",
    "from sklearn.preprocessing import StandardScaler\n",
    "\n",
    "# load util functions\n",
    "module_path = os.getcwd()[:-9]\n",
    "sys.path.insert(0, module_path)\n",
    "import src.evaluation.util as util\n",
    "sys.path.remove(module_path)"
   ]
  },
  {
   "cell_type": "code",
   "execution_count": null,
   "metadata": {},
   "outputs": [],
   "source": [
    "# define paths\n",
    "regr_results_log_path = '../logs/regr_results/'\n",
    "aggr_class_report_log_path = '../data/'"
   ]
  },
  {
   "cell_type": "code",
   "execution_count": null,
   "metadata": {},
   "outputs": [],
   "source": [
    "# load regression results table\n",
    "result_file = regr_results_log_path + \"regr_results.csv\"\n",
    "df_regr_results = pd.read_csv(result_file)"
   ]
  },
  {
   "cell_type": "code",
   "execution_count": null,
   "metadata": {},
   "outputs": [],
   "source": [
    "df_regr_results"
   ]
  },
  {
   "cell_type": "code",
   "execution_count": null,
   "metadata": {},
   "outputs": [],
   "source": [
    "# --> TODO: select index of regression to use for y_true / y_pred visualization <--\n",
    "index = 0\n",
    "\n",
    "# set regression parameters based on index and regression result table\n",
    "regressor = df_regr_results.iloc[index]['regressor']\n",
    "\n",
    "cnn = df_regr_results.iloc[index]['model']\n",
    "if cnn == 'all': cnn = False\n",
    "\n",
    "classes = df_regr_results.iloc[index]['classification_task']\n",
    "if classes == 'all': classes = False\n",
    "\n",
    "use_delta = df_regr_results.iloc[index]['delta']\n",
    "\n",
    "group_by = df_regr_results.iloc[index]['group_by']\n",
    "group_by = ast.literal_eval(group_by)\n",
    "use_grouping = any(group_by.values())\n",
    "\n",
    "zscore_threshold = df_regr_results.iloc[index]['zscore_threshold']\n",
    "\n",
    "best_params = df_regr_results.iloc[index]['best_params']\n",
    "best_params = ast.literal_eval(best_params)\n",
    "\n",
    "estimator_name = df_regr_results.iloc[index]['estimator'][:-2]"
   ]
  },
  {
   "cell_type": "code",
   "execution_count": null,
   "metadata": {},
   "outputs": [],
   "source": [
    "# load classification results table\n",
    "df_class_results_raw = util.load_aggr_class_reports(aggr_class_report_log_path)\n",
    "\n",
    "# process data based on parameters\n",
    "df_regression = df_class_results_raw.query(f'metric == \"{regressor}\"')\n",
    "df_regression = df_regression.drop(['run'], axis=1)\n",
    "df_regression = df_regression.rename(columns={'value': regressor})\n",
    "df_regression = util.calc_delta(df_class_results_raw, df_regression, regressor)\n",
    "\n",
    "# filter data for set properties\n",
    "df_regression = util.filter_data(\n",
    "    use_grouping, group_by, df_regression, cnn, classes\n",
    ")\n",
    "\n",
    "# filter outliers if properties are set\n",
    "df_regression = util.filter_outliers(\n",
    "    df_regression, regressor, use_grouping, zscore_threshold\n",
    ")\n",
    "\n",
    "df_regression.reset_index(inplace=True, drop=True)\n",
    "print(f'\\tRegression df.shape: {df_regression.shape}')"
   ]
  },
  {
   "cell_type": "code",
   "execution_count": null,
   "metadata": {},
   "outputs": [],
   "source": [
    "# get independent and dependent variables\n",
    "if use_delta:\n",
    "    X_df = df_regression[[f'{regressor}_delta']]\n",
    "else:\n",
    "    X_df = df_regression[[regressor]]\n",
    "y_df = df_regression['ratio']\n",
    "\n",
    "# split data - random state to reproduce split in initial model selection\n",
    "test_split = 0.2 if len(df_regression) > 100 else 0.1\n",
    "if use_grouping:\n",
    "    X_train, X_test, y_train, y_test = train_test_split(\n",
    "                                                X_df\n",
    "                                                , y_df\n",
    "                                                , test_size=test_split\n",
    "                                                , random_state=71\n",
    "                                            )\n",
    "else:\n",
    "    X_train, X_test, y_train, y_test = train_test_split(\n",
    "                                                X_df\n",
    "                                                , y_df\n",
    "                                                , test_size=test_split\n",
    "                                                , random_state=71\n",
    "                                                , stratify=y_df\n",
    "                                            )\n",
    "\n",
    "# scale X data\n",
    "scaler = StandardScaler()\n",
    "X_train = scaler.fit_transform(X_train)\n",
    "X_test = scaler.transform(X_test)"
   ]
  },
  {
   "cell_type": "code",
   "execution_count": null,
   "metadata": {},
   "outputs": [],
   "source": [
    "# init estimator, set best params\n",
    "estimator, temp_params = util.init_estimator(estimator_name)\n",
    "estimator.set_params(**best_params)\n",
    "\n",
    "# train estimator\n",
    "estimator.fit(X_train, y_train)\n",
    "y_train_pred = estimator.predict(X_train)\n",
    "y_pred = estimator.predict(X_test)\n",
    "\n",
    "print(f'''\n",
    "    {df_regr_results.iloc[index]['n']} observations\n",
    "    ---------\n",
    "    Regressor: {regressor}\n",
    "        {round(df_regression[regressor].mean(), 5)} mean\n",
    "        {round(df_regression[regressor].std(), 5)} std\n",
    "    Regressand: False Labels Ratio\n",
    "        {round(df_regression['ratio'].mean(), 5)} mean\n",
    "        {round(df_regression['ratio'].std(), 5)} std\n",
    "\n",
    "    Estimator: {estimator_name}\n",
    "        {round(df_regr_results.iloc[index]['neg_rmse_train'], 5)} : neg_rmse_train\n",
    "        {round(df_regr_results.iloc[index]['neg_rmse_test'], 5)} : neg_rmse_test\n",
    "        {round(df_regr_results.iloc[index]['r2_train'], 5)} : r2_train\n",
    "        {round(df_regr_results.iloc[index]['r2_test'], 5)} : r2_test\n",
    "''')\n",
    "\n",
    "# visualize estimator performance\n",
    "sns.set(rc={'figure.figsize':(11,8)})\n",
    "ax = sns.scatterplot(x=y_test, y=y_pred)\n",
    "ax.set(xlabel='True false labels ratio', ylabel='Predicted false labels ratio')\n",
    "plt.show()"
   ]
  }
 ],
 "metadata": {
  "interpreter": {
   "hash": "c041ee5eca0bebec98353fb08f3f656fe2677ac141976eeebd4959b2f854b27b"
  },
  "kernelspec": {
   "display_name": "Python 3.8.12 ('false-labels')",
   "language": "python",
   "name": "python3"
  },
  "language_info": {
   "codemirror_mode": {
    "name": "ipython",
    "version": 3
   },
   "file_extension": ".py",
   "mimetype": "text/x-python",
   "name": "python",
   "nbconvert_exporter": "python",
   "pygments_lexer": "ipython3",
   "version": "3.8.12"
  },
  "orig_nbformat": 4
 },
 "nbformat": 4,
 "nbformat_minor": 2
}
