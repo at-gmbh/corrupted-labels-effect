{
 "cells": [
  {
   "cell_type": "code",
   "execution_count": null,
   "metadata": {},
   "outputs": [],
   "source": [
    "# imports\n",
    "import json\n",
    "import matplotlib.pyplot as plt\n",
    "import os\n",
    "import pandas as pd\n",
    "import re\n",
    "import seaborn as sns"
   ]
  },
  {
   "cell_type": "code",
   "execution_count": null,
   "metadata": {},
   "outputs": [],
   "source": [
    "# define path and file filter\n",
    "report_log_path = '../logs/class_report'\n",
    "filter = 'class_report_19epoch.json'\n",
    "\n",
    "# define metrics to be extracted as list\n",
    "logs = [['accuracy']\n",
    "        , ['macro avg', 'precision']\n",
    "        , ['macro avg', 'recall']\n",
    "        , ['macro avg', 'f1-score']\n",
    "        , ['weighted avg', 'precision']\n",
    "        , ['weighted avg', 'recall']\n",
    "        , ['weighted avg', 'f1-score']\n",
    "]\n",
    "\n",
    "# init dataframe\n",
    "df_headers = ['run', 'model', 'ratio', 'classes', 'metric', 'value']\n",
    "df = pd.DataFrame(columns=df_headers)\n",
    "\n",
    "# iter through logs and get metrics from classification report jsons\n",
    "counter = 0\n",
    "for (dirpath, dirnames, filenames) in os.walk(report_log_path):\n",
    "\n",
    "    if filter in filenames:\n",
    "        counter += 1\n",
    "\n",
    "        file_path = dirpath+'/'+filter\n",
    "        class_report = json.load(open(file_path))\n",
    "\n",
    "        for log in logs:\n",
    "\n",
    "            run = dirpath.split('\\\\', 1)[-1].replace('\\\\', '_')\n",
    "            model = re.search('(^[a-z]{5,6})_', run).group(1)\n",
    "            ratio = float(re.search('(\\d{5})r', run).group(1)) / 100\n",
    "            classes = re.search('(\\d{1,2})c', run).group(1)\n",
    "            \n",
    "            if len(log) == 1:\n",
    "                metric = log[0]\n",
    "                value = class_report[log[0]]\n",
    "            elif len(log) == 2:\n",
    "                metric = log[0] + ' ' + log[1]\n",
    "                value = class_report[log[0]][log[1]]\n",
    "            \n",
    "            row = [\n",
    "                str(run),\n",
    "                str(model),\n",
    "                float(ratio),\n",
    "                str(classes),\n",
    "                str(metric),\n",
    "                float(value)\n",
    "            ]\n",
    "\n",
    "            df_len = len(df)\n",
    "            df.loc[df_len] = row\n",
    "\n",
    "print(f'{counter} classification reports found - df.shape {df.shape}')\n",
    "df.head()"
   ]
  },
  {
   "cell_type": "code",
   "execution_count": null,
   "metadata": {},
   "outputs": [],
   "source": [
    "df['metric'].unique()"
   ]
  },
  {
   "cell_type": "code",
   "execution_count": null,
   "metadata": {},
   "outputs": [],
   "source": [
    "# check wich training setups have less than 20 runs\n",
    "df_runs = df.groupby(['model', 'ratio', 'classes', 'metric']).count().reset_index()\n",
    "df_runs = df_runs.drop('value', axis=1).query('metric == \"accuracy\"')\n",
    "df_runs.query('run < 20').sort_values(by=['model', 'ratio', 'classes'], axis=0)"
   ]
  },
  {
   "cell_type": "markdown",
   "metadata": {},
   "source": [
    "--------------\n",
    "\n",
    "## non-aggregated metric evaluation"
   ]
  },
  {
   "cell_type": "markdown",
   "metadata": {},
   "source": [
    "--------------\n",
    "\n",
    "#### accuracy plot per training setup"
   ]
  },
  {
   "cell_type": "code",
   "execution_count": null,
   "metadata": {},
   "outputs": [],
   "source": [
    "df_accuracy_setup = df.query(\"metric == 'accuracy'\")\n",
    "df_accuracy_setup['color'] = df_accuracy_setup['model'] + ' ' + df_accuracy_setup['classes']"
   ]
  },
  {
   "cell_type": "code",
   "execution_count": null,
   "metadata": {},
   "outputs": [],
   "source": [
    "\n",
    "sns.set_style(\"whitegrid\")\n",
    "g = sns.FacetGrid(\n",
    "    df_accuracy_setup\n",
    "    , col='model'\n",
    "    , row='classes'\n",
    "    , col_order=['basic', 'resnet']\n",
    "    , height = 5\n",
    "    , hue = 'color'\n",
    "    , palette = 'colorblind'\n",
    "    , xlim = (0,1)\n",
    "    , sharex = True\n",
    "    , sharey = True\n",
    "    , despine = True\n",
    ")\n",
    "g.map(sns.scatterplot, 'value', 'ratio')\n",
    "g.set_axis_labels('accuracy', 'false labels ratio')\n",
    "\n",
    "g.savefig('../assets/train_setup_model_accuracy.png', dpi=300, facecolor='white')"
   ]
  },
  {
   "cell_type": "markdown",
   "metadata": {},
   "source": [
    "--------------\n",
    "\n",
    "#### accuracy plot"
   ]
  },
  {
   "cell_type": "code",
   "execution_count": null,
   "metadata": {},
   "outputs": [],
   "source": [
    "df_accuracy = df.query(\"metric == 'accuracy'\")\n",
    "print(df_accuracy.shape)\n",
    "df_accuracy.head()"
   ]
  },
  {
   "cell_type": "code",
   "execution_count": null,
   "metadata": {},
   "outputs": [],
   "source": [
    "for model in df_accuracy['model'].unique():\n",
    "    for classes in df_accuracy['classes'].unique():\n",
    "        df_temp = df_accuracy.query(f'model == \"{model}\" and classes == \"{classes}\"')\n",
    "\n",
    "        mean = round(df_temp[\"value\"].mean(), 4)\n",
    "        std = round(df_temp[\"value\"].std(), 4)\n",
    "        \n",
    "        print(f'{mean} ({std}) : {model} {classes}')\n",
    "\n",
    "for model in df_accuracy['model'].unique():\n",
    "    df_temp = df_accuracy.query(f'model == \"{model}\"')\n",
    "\n",
    "    mean = round(df_temp[\"value\"].mean(), 4)\n",
    "    std = round(df_temp[\"value\"].std(), 4)\n",
    "    \n",
    "    print(f'{mean} ({std}) : {model}')\n",
    "\n",
    "for classes in df_accuracy['classes'].unique():\n",
    "    df_temp = df_accuracy.query(f'classes == \"{classes}\"')\n",
    "\n",
    "    mean = round(df_temp[\"value\"].mean(), 4)\n",
    "    std = round(df_temp[\"value\"].std(), 4)\n",
    "    \n",
    "    print(f'{mean} ({std}) : {classes} classes')"
   ]
  },
  {
   "cell_type": "code",
   "execution_count": null,
   "metadata": {},
   "outputs": [],
   "source": [
    "df_hue = df_accuracy[['model', 'classes']].apply(\n",
    "    lambda row: f'{row.model} CNN, {row.classes} classes', axis=1\n",
    ")\n",
    "\n",
    "sns.set(font_scale = 1.1)\n",
    "sns.set_style(\"whitegrid\")\n",
    "f, (ax1) = plt.subplots(1, 1, figsize=(10, 6))\n",
    "sns.despine(left=True, bottom=True)\n",
    "\n",
    "sns.scatterplot(\n",
    "            data=df_accuracy,\n",
    "            x='ratio',\n",
    "            y='value',\n",
    "            ax=ax1,\n",
    "            hue=df_hue,\n",
    "            palette='colorblind',\n",
    "            # s=25,\n",
    "            # marker='X'\n",
    "        ).set(\n",
    "            xlabel='false labels ratio (%)',\n",
    "            ylabel='model accuracy',\n",
    "            ylim=(0.5,1),\n",
    "            title='Model Accuracy over False Labels Ratio'\n",
    "        )\n",
    "plt.legend(loc='lower left', title='Model Setup', facecolor='white', framealpha=1)\n",
    "\n",
    "f.savefig('../assets/model_accuracy.png', dpi=300, facecolor='white')"
   ]
  },
  {
   "cell_type": "code",
   "execution_count": null,
   "metadata": {},
   "outputs": [],
   "source": [
    "df_hue = df_accuracy[['model', 'classes']].apply(\n",
    "    lambda row: f'{row.model} CNN, {row.classes} classes', axis=1\n",
    ")\n",
    "\n",
    "sns.set(font_scale = 1.1)\n",
    "sns.set_style(\"whitegrid\")\n",
    "f, (ax1) = plt.subplots(1, 1, figsize=(10, 6))\n",
    "sns.despine(left=True, bottom=True)\n",
    "\n",
    "sns.stripplot(\n",
    "            data=df_accuracy,\n",
    "            x='ratio',\n",
    "            y='value',\n",
    "            ax=ax1,\n",
    "            hue=df_hue,\n",
    "            palette='colorblind',\n",
    "            jitter=0.3,\n",
    "            # s=25,\n",
    "            # marker='X'\n",
    "        ).set(\n",
    "            xlabel='false labels ratio (%)',\n",
    "            ylabel='model accuracy',\n",
    "            ylim=(0.5,1),\n",
    "            title='Model Accuracy over False Labels Ratio'\n",
    "        )\n",
    "plt.legend(loc='lower left', title='Model Setup', facecolor='white', framealpha=1)\n",
    "\n",
    "f.savefig('../assets/model_accuracy_strip.png', dpi=300, facecolor='white')"
   ]
  },
  {
   "cell_type": "markdown",
   "metadata": {},
   "source": [
    "------------\n",
    "\n",
    "#### weighted avg precision plot"
   ]
  },
  {
   "cell_type": "code",
   "execution_count": null,
   "metadata": {},
   "outputs": [],
   "source": [
    "df_precision_w = df.query(\"metric == 'weighted avg precision'\")\n",
    "print(df_precision_w.shape)\n",
    "df_precision_w.head()"
   ]
  },
  {
   "cell_type": "code",
   "execution_count": null,
   "metadata": {},
   "outputs": [],
   "source": [
    "df_hue = df_precision_w[['model', 'classes']].apply(\n",
    "    lambda row: f'{row.model} CNN, {row.classes} classes', axis=1\n",
    ")\n",
    "\n",
    "sns.set(font_scale = 1.1)\n",
    "sns.set_style(\"whitegrid\")\n",
    "f, (ax1) = plt.subplots(1, 1, figsize=(10, 6))\n",
    "sns.despine(left=True, bottom=True)\n",
    "\n",
    "sns.scatterplot(\n",
    "            data=df_precision_w,\n",
    "            x='ratio',\n",
    "            y='value',\n",
    "            ax=ax1,\n",
    "            hue=df_hue,\n",
    "            palette='colorblind'\n",
    "        ).set(\n",
    "            xlabel='false labels ratio (%)',\n",
    "            ylabel='model precision (weighted)',\n",
    "            ylim=(0.5,1),\n",
    "            title='Model Precision (weighted) over False Labels Ratio'\n",
    "        )\n",
    "plt.legend(loc='lower left', title='Model Setup', facecolor='white', framealpha=1)\n",
    "\n",
    "f.savefig('../assets/model_precision.png', dpi=300, facecolor='white')"
   ]
  },
  {
   "cell_type": "markdown",
   "metadata": {},
   "source": [
    "------------\n",
    "\n",
    "#### weighted avg recall plot"
   ]
  },
  {
   "cell_type": "code",
   "execution_count": null,
   "metadata": {},
   "outputs": [],
   "source": [
    "df_recall_w = df.query(\"metric == 'weighted avg recall'\")\n",
    "print(df_recall_w.shape)\n",
    "df_recall_w.head()"
   ]
  },
  {
   "cell_type": "code",
   "execution_count": null,
   "metadata": {},
   "outputs": [],
   "source": [
    "df_hue = df_recall_w[['model', 'classes']].apply(\n",
    "    lambda row: f'{row.model} CNN, {row.classes} classes', axis=1\n",
    ")\n",
    "\n",
    "sns.set(font_scale = 1.1)\n",
    "sns.set_style(\"whitegrid\")\n",
    "f, (ax1) = plt.subplots(1, 1, figsize=(10, 6))\n",
    "sns.despine(left=True, bottom=True)\n",
    "\n",
    "sns.scatterplot(\n",
    "            data=df_recall_w,\n",
    "            x='ratio',\n",
    "            y='value',\n",
    "            ax=ax1,\n",
    "            hue=df_hue,\n",
    "            palette='colorblind'\n",
    "        ).set(\n",
    "            xlabel='false labels ratio (%)',\n",
    "            ylabel='model recall (weighted)',\n",
    "            ylim=(0.5,1),\n",
    "            title='Model Recall (weighted) over False Labels Ratio'\n",
    "        )\n",
    "plt.legend(loc='lower left', title='Model Setup', facecolor='white', framealpha=1)\n",
    "\n",
    "f.savefig('../assets/model_recall.png', dpi=300, facecolor='white')"
   ]
  },
  {
   "cell_type": "markdown",
   "metadata": {},
   "source": [
    "------------\n",
    "\n",
    "#### weighted avg f1-score plot"
   ]
  },
  {
   "cell_type": "code",
   "execution_count": null,
   "metadata": {},
   "outputs": [],
   "source": [
    "df_f1score_w = df.query(\"metric == 'weighted avg f1-score'\")\n",
    "print(df_f1score_w.shape)\n",
    "df_f1score_w.head()"
   ]
  },
  {
   "cell_type": "code",
   "execution_count": null,
   "metadata": {},
   "outputs": [],
   "source": [
    "df_hue = df_f1score_w[['model', 'classes']].apply(\n",
    "    lambda row: f'{row.model} CNN, {row.classes} classes', axis=1\n",
    ")\n",
    "\n",
    "sns.set(font_scale = 1.1)\n",
    "sns.set_style(\"whitegrid\")\n",
    "f, (ax1) = plt.subplots(1, 1, figsize=(10, 6))\n",
    "sns.despine(left=True, bottom=True)\n",
    "\n",
    "sns.scatterplot(\n",
    "            data=df_f1score_w,\n",
    "            x='ratio',\n",
    "            y='value',\n",
    "            ax=ax1,\n",
    "            hue=df_hue,\n",
    "            palette='colorblind'\n",
    "        ).set(\n",
    "            xlabel='false labels ratio (%)',\n",
    "            ylabel='model f1-score (weighted)',\n",
    "            ylim=(0.5,1),\n",
    "            title='Model f1-score (weighted) over False Labels Ratio'\n",
    "        )\n",
    "plt.legend(loc='lower left', title='Model Setup', facecolor='white', framealpha=1)\n",
    "\n",
    "f.savefig('../assets/model_f1score.png', dpi=300, facecolor='white')"
   ]
  },
  {
   "cell_type": "markdown",
   "metadata": {},
   "source": [
    "--------------\n",
    "\n",
    "## aggregated (mean) metric evaluation"
   ]
  },
  {
   "cell_type": "code",
   "execution_count": null,
   "metadata": {},
   "outputs": [],
   "source": [
    "df_aggr = df.query('metric==[\"accuracy\", \"weighted avg precision\", \"weighted avg recall\", \"weighted avg f1-score\"]')\n",
    "df_aggr = df_aggr.groupby(['model', 'classes', 'ratio', 'metric']).mean().reset_index()\n",
    "\n",
    "df_aggr['delta'] = df_aggr.apply(lambda row:\n",
    "    row['value'] - df_aggr.query(f'model==\"{row.model}\" & classes==\"{row.classes}\" & ratio==0.0 & metric==\"{row.metric}\"').iloc[0]['value'], axis=1\n",
    ")\n",
    "\n",
    "df_aggr\n"
   ]
  },
  {
   "cell_type": "markdown",
   "metadata": {},
   "source": [
    "--------------\n",
    "\n",
    "#### aggr accuracy plot"
   ]
  },
  {
   "cell_type": "code",
   "execution_count": null,
   "metadata": {},
   "outputs": [],
   "source": [
    "df_aggr_accuracy = df_aggr.query(\"metric == 'accuracy'\")\n",
    "print(df_aggr_accuracy.shape)\n",
    "df_aggr_accuracy.head()"
   ]
  },
  {
   "cell_type": "code",
   "execution_count": null,
   "metadata": {},
   "outputs": [],
   "source": [
    "df_hue = df_aggr_accuracy[['model', 'classes']].apply(\n",
    "    lambda row: f'{row.model} CNN, {row.classes} classes', axis=1\n",
    ")\n",
    "\n",
    "sns.set(font_scale = 1.1)\n",
    "sns.set_style(\"whitegrid\")\n",
    "f, (ax1) = plt.subplots(1, 1, figsize=(10, 6))\n",
    "sns.despine(left=True, bottom=True)\n",
    "\n",
    "sns.lineplot(\n",
    "            data=df_aggr_accuracy,\n",
    "            x='ratio',\n",
    "            y='value',\n",
    "            ax=ax1,\n",
    "            hue=df_hue,\n",
    "            palette='colorblind'\n",
    "        ).set(\n",
    "            xlabel='false labels ratio (%)',\n",
    "            ylabel='model accuracy',\n",
    "            ylim=(0.5,1),\n",
    "            title='Avg. Model Accuracy over False Labels Ratio'\n",
    "        )\n",
    "plt.legend(loc='lower left', title='Model Setup', facecolor='white', framealpha=1)\n",
    "\n",
    "f.savefig('../assets/avg_model_accuracy.png', dpi=300, facecolor='white')"
   ]
  },
  {
   "cell_type": "code",
   "execution_count": null,
   "metadata": {},
   "outputs": [],
   "source": [
    "df_hue = df_aggr_accuracy[['model', 'classes']].apply(\n",
    "    lambda row: f'{row.model} CNN, {row.classes} classes', axis=1\n",
    ")\n",
    "\n",
    "sns.set(font_scale = 1.1)\n",
    "sns.set_style(\"whitegrid\")\n",
    "f, (ax1) = plt.subplots(1, 1, figsize=(10, 6))\n",
    "sns.despine(left=True, bottom=True)\n",
    "\n",
    "sns.lineplot(\n",
    "            data=df_aggr_accuracy,\n",
    "            x='ratio',\n",
    "            y='delta',\n",
    "            ax=ax1,\n",
    "            hue=df_hue,\n",
    "            palette='colorblind'\n",
    "        ).set(\n",
    "            xlabel='false labels ratio (%)',\n",
    "            ylabel='model accuracy delta',\n",
    "            ylim=(-0.2,0.2),\n",
    "            title='Avg. Model Accuracy Delta over False Labels Ratio'\n",
    "        )\n",
    "plt.legend(loc='upper right', title='Model Setup', facecolor='white', framealpha=1)\n",
    "\n",
    "f.savefig('../assets/avg_model_accuracy_delta.png', dpi=300, facecolor='white')"
   ]
  },
  {
   "cell_type": "markdown",
   "metadata": {},
   "source": [
    "------------\n",
    "\n",
    "#### aggr weighted avg precision plot"
   ]
  },
  {
   "cell_type": "code",
   "execution_count": null,
   "metadata": {},
   "outputs": [],
   "source": [
    "df_aggr_precision_w = df_aggr.query(\"metric == 'weighted avg precision'\")\n",
    "print(df_aggr_precision_w.shape)\n",
    "df_aggr_precision_w.head()"
   ]
  },
  {
   "cell_type": "code",
   "execution_count": null,
   "metadata": {},
   "outputs": [],
   "source": [
    "df_hue = df_aggr_precision_w[['model', 'classes']].apply(\n",
    "    lambda row: f'{row.model} CNN, {row.classes} classes', axis=1\n",
    ")\n",
    "\n",
    "sns.set(font_scale = 1.1)\n",
    "sns.set_style(\"whitegrid\")\n",
    "f, (ax1) = plt.subplots(1, 1, figsize=(10, 6))\n",
    "sns.despine(left=True, bottom=True)\n",
    "\n",
    "sns.lineplot(\n",
    "            data=df_aggr_precision_w,\n",
    "            x='ratio',\n",
    "            y='value',\n",
    "            ax=ax1,\n",
    "            hue=df_hue,\n",
    "            palette='colorblind'\n",
    "        ).set(\n",
    "            xlabel='false labels ratio (%)',\n",
    "            ylabel='model precision (weighted)',\n",
    "            ylim=(0.5,1),\n",
    "            title='Avg. Model Precision (weighted) over False Labels Ratio'\n",
    "        )\n",
    "plt.legend(loc='lower left', title='Model Setup', facecolor='white', framealpha=1)\n",
    "\n",
    "f.savefig('../assets/avg_model_precision.png', dpi=300, facecolor='white')"
   ]
  },
  {
   "cell_type": "code",
   "execution_count": null,
   "metadata": {},
   "outputs": [],
   "source": [
    "df_hue = df_aggr_precision_w[['model', 'classes']].apply(\n",
    "    lambda row: f'{row.model} CNN, {row.classes} classes', axis=1\n",
    ")\n",
    "\n",
    "sns.set(font_scale = 1.1)\n",
    "sns.set_style(\"whitegrid\")\n",
    "f, (ax1) = plt.subplots(1, 1, figsize=(10, 6))\n",
    "sns.despine(left=True, bottom=True)\n",
    "\n",
    "sns.lineplot(\n",
    "            data=df_aggr_precision_w,\n",
    "            x='ratio',\n",
    "            y='delta',\n",
    "            ax=ax1,\n",
    "            hue=df_hue,\n",
    "            palette='colorblind'\n",
    "        ).set(\n",
    "            xlabel='false labels ratio (%)',\n",
    "            ylabel='model precision (weighted) delta',\n",
    "            ylim=(-0.15,0.15),\n",
    "            title='Avg. Model Precision (weighted) Delta over False Labels Ratio'\n",
    "        )\n",
    "plt.legend(loc='upper right', title='Model Setup', facecolor='white', framealpha=1)\n",
    "\n",
    "f.savefig('../assets/avg_model_precision_delta.png', dpi=300, facecolor='white')"
   ]
  },
  {
   "cell_type": "markdown",
   "metadata": {},
   "source": [
    "------------\n",
    "\n",
    "#### aggr weighted avg recall plot"
   ]
  },
  {
   "cell_type": "code",
   "execution_count": null,
   "metadata": {},
   "outputs": [],
   "source": [
    "df_aggr_recall_w = df_aggr.query(\"metric == 'weighted avg recall'\")\n",
    "print(df_aggr_recall_w.shape)\n",
    "df_aggr_recall_w.head()"
   ]
  },
  {
   "cell_type": "code",
   "execution_count": null,
   "metadata": {},
   "outputs": [],
   "source": [
    "df_hue = df_aggr_recall_w[['model', 'classes']].apply(\n",
    "    lambda row: f'{row.model} CNN, {row.classes} classes', axis=1\n",
    ")\n",
    "\n",
    "sns.set(font_scale = 1.1)\n",
    "sns.set_style(\"whitegrid\")\n",
    "f, (ax1) = plt.subplots(1, 1, figsize=(10, 6))\n",
    "sns.despine(left=True, bottom=True)\n",
    "\n",
    "sns.lineplot(\n",
    "            data=df_aggr_recall_w,\n",
    "            x='ratio',\n",
    "            y='value',\n",
    "            ax=ax1,\n",
    "            hue=df_hue,\n",
    "            palette='colorblind'\n",
    "        ).set(\n",
    "            xlabel='false labels ratio (%)',\n",
    "            ylabel='model recall (weighted)',\n",
    "            ylim=(0.5,1),\n",
    "            title='Avg. Model Recall (weighted) over False Labels Ratio'\n",
    "        )\n",
    "plt.legend(loc='lower left', title='Model Setup', facecolor='white', framealpha=1)\n",
    "\n",
    "f.savefig('../assets/avg_model_recall.png', dpi=300, facecolor='white')"
   ]
  },
  {
   "cell_type": "code",
   "execution_count": null,
   "metadata": {},
   "outputs": [],
   "source": [
    "df_hue = df_aggr_recall_w[['model', 'classes']].apply(\n",
    "    lambda row: f'{row.model} CNN, {row.classes} classes', axis=1\n",
    ")\n",
    "\n",
    "sns.set(font_scale = 1.1)\n",
    "sns.set_style(\"whitegrid\")\n",
    "f, (ax1) = plt.subplots(1, 1, figsize=(10, 6))\n",
    "sns.despine(left=True, bottom=True)\n",
    "\n",
    "sns.lineplot(\n",
    "            data=df_aggr_recall_w,\n",
    "            x='ratio',\n",
    "            y='delta',\n",
    "            ax=ax1,\n",
    "            hue=df_hue,\n",
    "            palette='colorblind'\n",
    "        ).set(\n",
    "            xlabel='false labels ratio (%)',\n",
    "            ylabel='model recall (weighted) delta',\n",
    "            ylim=(-0.2,0.2),\n",
    "            title='Avg. Model Recall (weighted) Delta over False Labels Ratio'\n",
    "        )\n",
    "plt.legend(loc='upper right', title='Model Setup', facecolor='white', framealpha=1)\n",
    "\n",
    "f.savefig('../assets/avg_model_recall_delta.png', dpi=300, facecolor='white')"
   ]
  },
  {
   "cell_type": "markdown",
   "metadata": {},
   "source": [
    "------------\n",
    "\n",
    "#### aggr weighted avg f1-score plot"
   ]
  },
  {
   "cell_type": "code",
   "execution_count": null,
   "metadata": {},
   "outputs": [],
   "source": [
    "df_aggr_f1score_w = df_aggr.query(\"metric == 'weighted avg f1-score'\")\n",
    "print(df_aggr_f1score_w.shape)\n",
    "df_aggr_f1score_w.head()"
   ]
  },
  {
   "cell_type": "code",
   "execution_count": null,
   "metadata": {},
   "outputs": [],
   "source": [
    "df_hue = df_aggr_f1score_w[['model', 'classes']].apply(\n",
    "    lambda row: f'{row.model} CNN, {row.classes} classes', axis=1\n",
    ")\n",
    "\n",
    "sns.set(font_scale = 1.1)\n",
    "sns.set_style(\"whitegrid\")\n",
    "f, (ax1) = plt.subplots(1, 1, figsize=(10, 6))\n",
    "sns.despine(left=True, bottom=True)\n",
    "\n",
    "sns.lineplot(\n",
    "            data=df_aggr_f1score_w,\n",
    "            x='ratio',\n",
    "            y='value',\n",
    "            ax=ax1,\n",
    "            hue=df_hue,\n",
    "            palette='colorblind'\n",
    "        ).set(\n",
    "            xlabel='false labels ratio (%)',\n",
    "            ylabel='model f1-score (weighted)',\n",
    "            ylim=(0.5,1),\n",
    "            title='Avg. Model f1-score (weighted) over False Labels Ratio'\n",
    "        )\n",
    "plt.legend(loc='lower left', title='Model Setup', facecolor='white', framealpha=1)\n",
    "\n",
    "f.savefig('../assets/avg_model_f1score.png', dpi=300, facecolor='white')"
   ]
  },
  {
   "cell_type": "code",
   "execution_count": null,
   "metadata": {},
   "outputs": [],
   "source": [
    "df_hue = df_aggr_f1score_w[['model', 'classes']].apply(\n",
    "    lambda row: f'{row.model} CNN, {row.classes} classes', axis=1\n",
    ")\n",
    "\n",
    "sns.set(font_scale = 1.1)\n",
    "sns.set_style(\"whitegrid\")\n",
    "f, (ax1) = plt.subplots(1, 1, figsize=(10, 6))\n",
    "sns.despine(left=True, bottom=True)\n",
    "\n",
    "sns.lineplot(\n",
    "            data=df_aggr_f1score_w,\n",
    "            x='ratio',\n",
    "            y='delta',\n",
    "            ax=ax1,\n",
    "            hue=df_hue,\n",
    "            palette='colorblind'\n",
    "        ).set(\n",
    "            xlabel='false labels ratio (%)',\n",
    "            ylabel='model f1-score (weighted) delta',\n",
    "            ylim=(-0.2,0.2),\n",
    "            title='Avg. Model f1-score (weighted) Delta over False Labels Ratio'\n",
    "        )\n",
    "plt.legend(loc='upper right', title='Model Setup', facecolor='white', framealpha=1)\n",
    "\n",
    "f.savefig('../assets/avg_model_f1score_delta.png', dpi=300, facecolor='white')"
   ]
  }
 ],
 "metadata": {
  "interpreter": {
   "hash": "c041ee5eca0bebec98353fb08f3f656fe2677ac141976eeebd4959b2f854b27b"
  },
  "kernelspec": {
   "display_name": "Python 3.8.12 ('false-labels')",
   "language": "python",
   "name": "python3"
  },
  "language_info": {
   "codemirror_mode": {
    "name": "ipython",
    "version": 3
   },
   "file_extension": ".py",
   "mimetype": "text/x-python",
   "name": "python",
   "nbconvert_exporter": "python",
   "pygments_lexer": "ipython3",
   "version": "3.8.12"
  },
  "orig_nbformat": 4
 },
 "nbformat": 4,
 "nbformat_minor": 2
}
